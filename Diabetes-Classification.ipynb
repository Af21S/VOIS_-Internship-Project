{
 "cells": [
  {
   "cell_type": "code",
   "execution_count": 1059,
   "id": "38784695",
   "metadata": {},
   "outputs": [],
   "source": [
    "import numpy as np\n",
    "import pandas as pd\n",
    "import matplotlib.pyplot as plt\n",
    "import seaborn as sn\n",
    "from sklearn.preprocessing import MinMaxScaler\n",
    "from sklearn.model_selection import train_test_split,GridSearchCV\n",
    "from sklearn.tree import DecisionTreeClassifier\n",
    "from sklearn.ensemble import RandomForestClassifier\n",
    "from sklearn import tree\n",
    "from sklearn.neighbors import KNeighborsClassifier\n",
    "from sklearn.metrics import accuracy_score,f1_score\n",
    "from sklearn.model_selection import cross_val_score\n",
    "from sklearn.linear_model import LogisticRegression\n",
    "import pickle\n",
    "%matplotlib inline"
   ]
  },
  {
   "cell_type": "code",
   "execution_count": 979,
   "id": "ed95d6ac",
   "metadata": {},
   "outputs": [],
   "source": [
    "df=pd.read_excel('Diabetes.xlsx')"
   ]
  },
  {
   "cell_type": "code",
   "execution_count": 980,
   "id": "8e7e47e6",
   "metadata": {},
   "outputs": [
    {
     "data": {
      "text/html": [
       "<div>\n",
       "<style scoped>\n",
       "    .dataframe tbody tr th:only-of-type {\n",
       "        vertical-align: middle;\n",
       "    }\n",
       "\n",
       "    .dataframe tbody tr th {\n",
       "        vertical-align: top;\n",
       "    }\n",
       "\n",
       "    .dataframe thead th {\n",
       "        text-align: right;\n",
       "    }\n",
       "</style>\n",
       "<table border=\"1\" class=\"dataframe\">\n",
       "  <thead>\n",
       "    <tr style=\"text-align: right;\">\n",
       "      <th></th>\n",
       "      <th>Pregnancies</th>\n",
       "      <th>Glucose</th>\n",
       "      <th>BloodPressure</th>\n",
       "      <th>SkinThickness</th>\n",
       "      <th>Insulin</th>\n",
       "      <th>BMI</th>\n",
       "      <th>DiabetesPedigreeFunction</th>\n",
       "      <th>Age</th>\n",
       "      <th>Outcome</th>\n",
       "    </tr>\n",
       "  </thead>\n",
       "  <tbody>\n",
       "    <tr>\n",
       "      <th>0</th>\n",
       "      <td>6</td>\n",
       "      <td>148</td>\n",
       "      <td>72</td>\n",
       "      <td>35</td>\n",
       "      <td>0</td>\n",
       "      <td>33.6</td>\n",
       "      <td>0.627</td>\n",
       "      <td>50</td>\n",
       "      <td>1</td>\n",
       "    </tr>\n",
       "    <tr>\n",
       "      <th>1</th>\n",
       "      <td>1</td>\n",
       "      <td>85</td>\n",
       "      <td>66</td>\n",
       "      <td>29</td>\n",
       "      <td>0</td>\n",
       "      <td>26.6</td>\n",
       "      <td>0.351</td>\n",
       "      <td>31</td>\n",
       "      <td>0</td>\n",
       "    </tr>\n",
       "    <tr>\n",
       "      <th>2</th>\n",
       "      <td>8</td>\n",
       "      <td>183</td>\n",
       "      <td>64</td>\n",
       "      <td>0</td>\n",
       "      <td>0</td>\n",
       "      <td>23.3</td>\n",
       "      <td>0.672</td>\n",
       "      <td>32</td>\n",
       "      <td>1</td>\n",
       "    </tr>\n",
       "    <tr>\n",
       "      <th>3</th>\n",
       "      <td>1</td>\n",
       "      <td>89</td>\n",
       "      <td>66</td>\n",
       "      <td>23</td>\n",
       "      <td>94</td>\n",
       "      <td>28.1</td>\n",
       "      <td>0.167</td>\n",
       "      <td>21</td>\n",
       "      <td>0</td>\n",
       "    </tr>\n",
       "    <tr>\n",
       "      <th>4</th>\n",
       "      <td>0</td>\n",
       "      <td>137</td>\n",
       "      <td>40</td>\n",
       "      <td>35</td>\n",
       "      <td>168</td>\n",
       "      <td>43.1</td>\n",
       "      <td>2.288</td>\n",
       "      <td>33</td>\n",
       "      <td>1</td>\n",
       "    </tr>\n",
       "  </tbody>\n",
       "</table>\n",
       "</div>"
      ],
      "text/plain": [
       "   Pregnancies  Glucose  BloodPressure  SkinThickness  Insulin   BMI  \\\n",
       "0            6      148             72             35        0  33.6   \n",
       "1            1       85             66             29        0  26.6   \n",
       "2            8      183             64              0        0  23.3   \n",
       "3            1       89             66             23       94  28.1   \n",
       "4            0      137             40             35      168  43.1   \n",
       "\n",
       "   DiabetesPedigreeFunction  Age  Outcome  \n",
       "0                     0.627   50        1  \n",
       "1                     0.351   31        0  \n",
       "2                     0.672   32        1  \n",
       "3                     0.167   21        0  \n",
       "4                     2.288   33        1  "
      ]
     },
     "execution_count": 980,
     "metadata": {},
     "output_type": "execute_result"
    }
   ],
   "source": [
    "df.head()"
   ]
  },
  {
   "cell_type": "code",
   "execution_count": 981,
   "id": "eafe88a7",
   "metadata": {},
   "outputs": [
    {
     "data": {
      "text/plain": [
       "(768, 9)"
      ]
     },
     "execution_count": 981,
     "metadata": {},
     "output_type": "execute_result"
    }
   ],
   "source": [
    "df.shape"
   ]
  },
  {
   "cell_type": "code",
   "execution_count": 982,
   "id": "a4a4964d",
   "metadata": {},
   "outputs": [
    {
     "name": "stdout",
     "output_type": "stream",
     "text": [
      "<class 'pandas.core.frame.DataFrame'>\n",
      "RangeIndex: 768 entries, 0 to 767\n",
      "Data columns (total 9 columns):\n",
      " #   Column                    Non-Null Count  Dtype  \n",
      "---  ------                    --------------  -----  \n",
      " 0   Pregnancies               768 non-null    int64  \n",
      " 1   Glucose                   768 non-null    int64  \n",
      " 2   BloodPressure             768 non-null    int64  \n",
      " 3   SkinThickness             768 non-null    int64  \n",
      " 4   Insulin                   768 non-null    int64  \n",
      " 5   BMI                       768 non-null    float64\n",
      " 6   DiabetesPedigreeFunction  768 non-null    float64\n",
      " 7   Age                       768 non-null    int64  \n",
      " 8   Outcome                   768 non-null    int64  \n",
      "dtypes: float64(2), int64(7)\n",
      "memory usage: 54.1 KB\n"
     ]
    }
   ],
   "source": [
    "df.info()"
   ]
  },
  {
   "cell_type": "code",
   "execution_count": 983,
   "id": "1011b4a7",
   "metadata": {},
   "outputs": [
    {
     "data": {
      "text/html": [
       "<div>\n",
       "<style scoped>\n",
       "    .dataframe tbody tr th:only-of-type {\n",
       "        vertical-align: middle;\n",
       "    }\n",
       "\n",
       "    .dataframe tbody tr th {\n",
       "        vertical-align: top;\n",
       "    }\n",
       "\n",
       "    .dataframe thead th {\n",
       "        text-align: right;\n",
       "    }\n",
       "</style>\n",
       "<table border=\"1\" class=\"dataframe\">\n",
       "  <thead>\n",
       "    <tr style=\"text-align: right;\">\n",
       "      <th></th>\n",
       "      <th>Pregnancies</th>\n",
       "      <th>Glucose</th>\n",
       "      <th>BloodPressure</th>\n",
       "      <th>SkinThickness</th>\n",
       "      <th>Insulin</th>\n",
       "      <th>BMI</th>\n",
       "      <th>DiabetesPedigreeFunction</th>\n",
       "      <th>Age</th>\n",
       "      <th>Outcome</th>\n",
       "    </tr>\n",
       "  </thead>\n",
       "  <tbody>\n",
       "    <tr>\n",
       "      <th>count</th>\n",
       "      <td>768.000000</td>\n",
       "      <td>768.000000</td>\n",
       "      <td>768.000000</td>\n",
       "      <td>768.000000</td>\n",
       "      <td>768.000000</td>\n",
       "      <td>768.000000</td>\n",
       "      <td>768.000000</td>\n",
       "      <td>768.000000</td>\n",
       "      <td>768.000000</td>\n",
       "    </tr>\n",
       "    <tr>\n",
       "      <th>mean</th>\n",
       "      <td>3.845052</td>\n",
       "      <td>120.894531</td>\n",
       "      <td>69.105469</td>\n",
       "      <td>20.536458</td>\n",
       "      <td>79.799479</td>\n",
       "      <td>31.992578</td>\n",
       "      <td>0.471876</td>\n",
       "      <td>33.240885</td>\n",
       "      <td>0.348958</td>\n",
       "    </tr>\n",
       "    <tr>\n",
       "      <th>std</th>\n",
       "      <td>3.369578</td>\n",
       "      <td>31.972618</td>\n",
       "      <td>19.355807</td>\n",
       "      <td>15.952218</td>\n",
       "      <td>115.244002</td>\n",
       "      <td>7.884160</td>\n",
       "      <td>0.331329</td>\n",
       "      <td>11.760232</td>\n",
       "      <td>0.476951</td>\n",
       "    </tr>\n",
       "    <tr>\n",
       "      <th>min</th>\n",
       "      <td>0.000000</td>\n",
       "      <td>0.000000</td>\n",
       "      <td>0.000000</td>\n",
       "      <td>0.000000</td>\n",
       "      <td>0.000000</td>\n",
       "      <td>0.000000</td>\n",
       "      <td>0.078000</td>\n",
       "      <td>21.000000</td>\n",
       "      <td>0.000000</td>\n",
       "    </tr>\n",
       "    <tr>\n",
       "      <th>25%</th>\n",
       "      <td>1.000000</td>\n",
       "      <td>99.000000</td>\n",
       "      <td>62.000000</td>\n",
       "      <td>0.000000</td>\n",
       "      <td>0.000000</td>\n",
       "      <td>27.300000</td>\n",
       "      <td>0.243750</td>\n",
       "      <td>24.000000</td>\n",
       "      <td>0.000000</td>\n",
       "    </tr>\n",
       "    <tr>\n",
       "      <th>50%</th>\n",
       "      <td>3.000000</td>\n",
       "      <td>117.000000</td>\n",
       "      <td>72.000000</td>\n",
       "      <td>23.000000</td>\n",
       "      <td>30.500000</td>\n",
       "      <td>32.000000</td>\n",
       "      <td>0.372500</td>\n",
       "      <td>29.000000</td>\n",
       "      <td>0.000000</td>\n",
       "    </tr>\n",
       "    <tr>\n",
       "      <th>75%</th>\n",
       "      <td>6.000000</td>\n",
       "      <td>140.250000</td>\n",
       "      <td>80.000000</td>\n",
       "      <td>32.000000</td>\n",
       "      <td>127.250000</td>\n",
       "      <td>36.600000</td>\n",
       "      <td>0.626250</td>\n",
       "      <td>41.000000</td>\n",
       "      <td>1.000000</td>\n",
       "    </tr>\n",
       "    <tr>\n",
       "      <th>max</th>\n",
       "      <td>17.000000</td>\n",
       "      <td>199.000000</td>\n",
       "      <td>122.000000</td>\n",
       "      <td>99.000000</td>\n",
       "      <td>846.000000</td>\n",
       "      <td>67.100000</td>\n",
       "      <td>2.420000</td>\n",
       "      <td>81.000000</td>\n",
       "      <td>1.000000</td>\n",
       "    </tr>\n",
       "  </tbody>\n",
       "</table>\n",
       "</div>"
      ],
      "text/plain": [
       "       Pregnancies     Glucose  BloodPressure  SkinThickness     Insulin  \\\n",
       "count   768.000000  768.000000     768.000000     768.000000  768.000000   \n",
       "mean      3.845052  120.894531      69.105469      20.536458   79.799479   \n",
       "std       3.369578   31.972618      19.355807      15.952218  115.244002   \n",
       "min       0.000000    0.000000       0.000000       0.000000    0.000000   \n",
       "25%       1.000000   99.000000      62.000000       0.000000    0.000000   \n",
       "50%       3.000000  117.000000      72.000000      23.000000   30.500000   \n",
       "75%       6.000000  140.250000      80.000000      32.000000  127.250000   \n",
       "max      17.000000  199.000000     122.000000      99.000000  846.000000   \n",
       "\n",
       "              BMI  DiabetesPedigreeFunction         Age     Outcome  \n",
       "count  768.000000                768.000000  768.000000  768.000000  \n",
       "mean    31.992578                  0.471876   33.240885    0.348958  \n",
       "std      7.884160                  0.331329   11.760232    0.476951  \n",
       "min      0.000000                  0.078000   21.000000    0.000000  \n",
       "25%     27.300000                  0.243750   24.000000    0.000000  \n",
       "50%     32.000000                  0.372500   29.000000    0.000000  \n",
       "75%     36.600000                  0.626250   41.000000    1.000000  \n",
       "max     67.100000                  2.420000   81.000000    1.000000  "
      ]
     },
     "execution_count": 983,
     "metadata": {},
     "output_type": "execute_result"
    }
   ],
   "source": [
    "df.describe()"
   ]
  },
  {
   "cell_type": "code",
   "execution_count": 984,
   "id": "a0a17da4",
   "metadata": {},
   "outputs": [
    {
     "data": {
      "text/plain": [
       "array([[<Axes: title={'center': 'Pregnancies'}>,\n",
       "        <Axes: title={'center': 'Glucose'}>,\n",
       "        <Axes: title={'center': 'BloodPressure'}>],\n",
       "       [<Axes: title={'center': 'SkinThickness'}>,\n",
       "        <Axes: title={'center': 'Insulin'}>,\n",
       "        <Axes: title={'center': 'BMI'}>],\n",
       "       [<Axes: title={'center': 'DiabetesPedigreeFunction'}>,\n",
       "        <Axes: title={'center': 'Age'}>,\n",
       "        <Axes: title={'center': 'Outcome'}>]], dtype=object)"
      ]
     },
     "execution_count": 984,
     "metadata": {},
     "output_type": "execute_result"
    },
    {
     "data": {
      "image/png": "[encoded data removed]",
      "text/plain": [
       "<Figure size 1500x2000 with 9 Axes>"
      ]
     },
     "metadata": {},
     "output_type": "display_data"
    }
   ],
   "source": [
    "df.hist(bins=50, figsize=(15,20))"
   ]
  },
  {
   "cell_type": "code",
   "execution_count": 985,
   "id": "bc35381f",
   "metadata": {},
   "outputs": [],
   "source": [
    "#dataset, not perfectly balanced\n",
    "#bp,bmi,skin thickness of someone cannot be 0"
   ]
  },
  {
   "cell_type": "code",
   "execution_count": 986,
   "id": "6577e633",
   "metadata": {},
   "outputs": [
    {
     "data": {
      "text/plain": [
       "Pregnancies                 0\n",
       "Glucose                     0\n",
       "BloodPressure               0\n",
       "SkinThickness               0\n",
       "Insulin                     0\n",
       "BMI                         0\n",
       "DiabetesPedigreeFunction    0\n",
       "Age                         0\n",
       "Outcome                     0\n",
       "dtype: int64"
      ]
     },
     "execution_count": 986,
     "metadata": {},
     "output_type": "execute_result"
    }
   ],
   "source": [
    "df.isnull().sum()"
   ]
  },
  {
   "cell_type": "code",
   "execution_count": 987,
   "id": "baf26668",
   "metadata": {},
   "outputs": [
    {
     "name": "stdout",
     "output_type": "stream",
     "text": [
      "<class 'pandas.core.frame.DataFrame'>\n",
      "RangeIndex: 768 entries, 0 to 767\n",
      "Data columns (total 9 columns):\n",
      " #   Column                    Non-Null Count  Dtype  \n",
      "---  ------                    --------------  -----  \n",
      " 0   Pregnancies               768 non-null    int64  \n",
      " 1   Glucose                   768 non-null    int64  \n",
      " 2   BloodPressure             768 non-null    int64  \n",
      " 3   SkinThickness             768 non-null    int64  \n",
      " 4   Insulin                   768 non-null    int64  \n",
      " 5   BMI                       768 non-null    float64\n",
      " 6   DiabetesPedigreeFunction  768 non-null    float64\n",
      " 7   Age                       768 non-null    int64  \n",
      " 8   Outcome                   768 non-null    int64  \n",
      "dtypes: float64(2), int64(7)\n",
      "memory usage: 54.1 KB\n"
     ]
    }
   ],
   "source": [
    "df.info()"
   ]
  },
  {
   "cell_type": "code",
   "execution_count": 988,
   "id": "786969f5",
   "metadata": {},
   "outputs": [
    {
     "data": {
      "text/html": [
       "<div>\n",
       "<style scoped>\n",
       "    .dataframe tbody tr th:only-of-type {\n",
       "        vertical-align: middle;\n",
       "    }\n",
       "\n",
       "    .dataframe tbody tr th {\n",
       "        vertical-align: top;\n",
       "    }\n",
       "\n",
       "    .dataframe thead th {\n",
       "        text-align: right;\n",
       "    }\n",
       "</style>\n",
       "<table border=\"1\" class=\"dataframe\">\n",
       "  <thead>\n",
       "    <tr style=\"text-align: right;\">\n",
       "      <th></th>\n",
       "      <th>Pregnancies</th>\n",
       "      <th>Glucose</th>\n",
       "      <th>BloodPressure</th>\n",
       "      <th>SkinThickness</th>\n",
       "      <th>Insulin</th>\n",
       "      <th>BMI</th>\n",
       "      <th>DiabetesPedigreeFunction</th>\n",
       "      <th>Age</th>\n",
       "      <th>Outcome</th>\n",
       "    </tr>\n",
       "  </thead>\n",
       "  <tbody>\n",
       "    <tr>\n",
       "      <th>7</th>\n",
       "      <td>10</td>\n",
       "      <td>115</td>\n",
       "      <td>0</td>\n",
       "      <td>0</td>\n",
       "      <td>0</td>\n",
       "      <td>35.3</td>\n",
       "      <td>0.134</td>\n",
       "      <td>29</td>\n",
       "      <td>0</td>\n",
       "    </tr>\n",
       "    <tr>\n",
       "      <th>15</th>\n",
       "      <td>7</td>\n",
       "      <td>100</td>\n",
       "      <td>0</td>\n",
       "      <td>0</td>\n",
       "      <td>0</td>\n",
       "      <td>30.0</td>\n",
       "      <td>0.484</td>\n",
       "      <td>32</td>\n",
       "      <td>1</td>\n",
       "    </tr>\n",
       "    <tr>\n",
       "      <th>49</th>\n",
       "      <td>7</td>\n",
       "      <td>105</td>\n",
       "      <td>0</td>\n",
       "      <td>0</td>\n",
       "      <td>0</td>\n",
       "      <td>0.0</td>\n",
       "      <td>0.305</td>\n",
       "      <td>24</td>\n",
       "      <td>0</td>\n",
       "    </tr>\n",
       "    <tr>\n",
       "      <th>60</th>\n",
       "      <td>2</td>\n",
       "      <td>84</td>\n",
       "      <td>0</td>\n",
       "      <td>0</td>\n",
       "      <td>0</td>\n",
       "      <td>0.0</td>\n",
       "      <td>0.304</td>\n",
       "      <td>21</td>\n",
       "      <td>0</td>\n",
       "    </tr>\n",
       "    <tr>\n",
       "      <th>78</th>\n",
       "      <td>0</td>\n",
       "      <td>131</td>\n",
       "      <td>0</td>\n",
       "      <td>0</td>\n",
       "      <td>0</td>\n",
       "      <td>43.2</td>\n",
       "      <td>0.270</td>\n",
       "      <td>26</td>\n",
       "      <td>1</td>\n",
       "    </tr>\n",
       "    <tr>\n",
       "      <th>81</th>\n",
       "      <td>2</td>\n",
       "      <td>74</td>\n",
       "      <td>0</td>\n",
       "      <td>0</td>\n",
       "      <td>0</td>\n",
       "      <td>0.0</td>\n",
       "      <td>0.102</td>\n",
       "      <td>22</td>\n",
       "      <td>0</td>\n",
       "    </tr>\n",
       "    <tr>\n",
       "      <th>172</th>\n",
       "      <td>2</td>\n",
       "      <td>87</td>\n",
       "      <td>0</td>\n",
       "      <td>23</td>\n",
       "      <td>0</td>\n",
       "      <td>28.9</td>\n",
       "      <td>0.773</td>\n",
       "      <td>25</td>\n",
       "      <td>0</td>\n",
       "    </tr>\n",
       "    <tr>\n",
       "      <th>193</th>\n",
       "      <td>11</td>\n",
       "      <td>135</td>\n",
       "      <td>0</td>\n",
       "      <td>0</td>\n",
       "      <td>0</td>\n",
       "      <td>52.3</td>\n",
       "      <td>0.578</td>\n",
       "      <td>40</td>\n",
       "      <td>1</td>\n",
       "    </tr>\n",
       "    <tr>\n",
       "      <th>222</th>\n",
       "      <td>7</td>\n",
       "      <td>119</td>\n",
       "      <td>0</td>\n",
       "      <td>0</td>\n",
       "      <td>0</td>\n",
       "      <td>25.2</td>\n",
       "      <td>0.209</td>\n",
       "      <td>37</td>\n",
       "      <td>0</td>\n",
       "    </tr>\n",
       "    <tr>\n",
       "      <th>261</th>\n",
       "      <td>3</td>\n",
       "      <td>141</td>\n",
       "      <td>0</td>\n",
       "      <td>0</td>\n",
       "      <td>0</td>\n",
       "      <td>30.0</td>\n",
       "      <td>0.761</td>\n",
       "      <td>27</td>\n",
       "      <td>1</td>\n",
       "    </tr>\n",
       "    <tr>\n",
       "      <th>266</th>\n",
       "      <td>0</td>\n",
       "      <td>138</td>\n",
       "      <td>0</td>\n",
       "      <td>0</td>\n",
       "      <td>0</td>\n",
       "      <td>36.3</td>\n",
       "      <td>0.933</td>\n",
       "      <td>25</td>\n",
       "      <td>1</td>\n",
       "    </tr>\n",
       "    <tr>\n",
       "      <th>269</th>\n",
       "      <td>2</td>\n",
       "      <td>146</td>\n",
       "      <td>0</td>\n",
       "      <td>0</td>\n",
       "      <td>0</td>\n",
       "      <td>27.5</td>\n",
       "      <td>0.240</td>\n",
       "      <td>28</td>\n",
       "      <td>1</td>\n",
       "    </tr>\n",
       "    <tr>\n",
       "      <th>300</th>\n",
       "      <td>0</td>\n",
       "      <td>167</td>\n",
       "      <td>0</td>\n",
       "      <td>0</td>\n",
       "      <td>0</td>\n",
       "      <td>32.3</td>\n",
       "      <td>0.839</td>\n",
       "      <td>30</td>\n",
       "      <td>1</td>\n",
       "    </tr>\n",
       "    <tr>\n",
       "      <th>332</th>\n",
       "      <td>1</td>\n",
       "      <td>180</td>\n",
       "      <td>0</td>\n",
       "      <td>0</td>\n",
       "      <td>0</td>\n",
       "      <td>43.3</td>\n",
       "      <td>0.282</td>\n",
       "      <td>41</td>\n",
       "      <td>1</td>\n",
       "    </tr>\n",
       "    <tr>\n",
       "      <th>336</th>\n",
       "      <td>0</td>\n",
       "      <td>117</td>\n",
       "      <td>0</td>\n",
       "      <td>0</td>\n",
       "      <td>0</td>\n",
       "      <td>33.8</td>\n",
       "      <td>0.932</td>\n",
       "      <td>44</td>\n",
       "      <td>0</td>\n",
       "    </tr>\n",
       "    <tr>\n",
       "      <th>347</th>\n",
       "      <td>3</td>\n",
       "      <td>116</td>\n",
       "      <td>0</td>\n",
       "      <td>0</td>\n",
       "      <td>0</td>\n",
       "      <td>23.5</td>\n",
       "      <td>0.187</td>\n",
       "      <td>23</td>\n",
       "      <td>0</td>\n",
       "    </tr>\n",
       "    <tr>\n",
       "      <th>357</th>\n",
       "      <td>13</td>\n",
       "      <td>129</td>\n",
       "      <td>0</td>\n",
       "      <td>30</td>\n",
       "      <td>0</td>\n",
       "      <td>39.9</td>\n",
       "      <td>0.569</td>\n",
       "      <td>44</td>\n",
       "      <td>1</td>\n",
       "    </tr>\n",
       "    <tr>\n",
       "      <th>426</th>\n",
       "      <td>0</td>\n",
       "      <td>94</td>\n",
       "      <td>0</td>\n",
       "      <td>0</td>\n",
       "      <td>0</td>\n",
       "      <td>0.0</td>\n",
       "      <td>0.256</td>\n",
       "      <td>25</td>\n",
       "      <td>0</td>\n",
       "    </tr>\n",
       "    <tr>\n",
       "      <th>430</th>\n",
       "      <td>2</td>\n",
       "      <td>99</td>\n",
       "      <td>0</td>\n",
       "      <td>0</td>\n",
       "      <td>0</td>\n",
       "      <td>22.2</td>\n",
       "      <td>0.108</td>\n",
       "      <td>23</td>\n",
       "      <td>0</td>\n",
       "    </tr>\n",
       "    <tr>\n",
       "      <th>435</th>\n",
       "      <td>0</td>\n",
       "      <td>141</td>\n",
       "      <td>0</td>\n",
       "      <td>0</td>\n",
       "      <td>0</td>\n",
       "      <td>42.4</td>\n",
       "      <td>0.205</td>\n",
       "      <td>29</td>\n",
       "      <td>1</td>\n",
       "    </tr>\n",
       "    <tr>\n",
       "      <th>453</th>\n",
       "      <td>2</td>\n",
       "      <td>119</td>\n",
       "      <td>0</td>\n",
       "      <td>0</td>\n",
       "      <td>0</td>\n",
       "      <td>19.6</td>\n",
       "      <td>0.832</td>\n",
       "      <td>72</td>\n",
       "      <td>0</td>\n",
       "    </tr>\n",
       "    <tr>\n",
       "      <th>468</th>\n",
       "      <td>8</td>\n",
       "      <td>120</td>\n",
       "      <td>0</td>\n",
       "      <td>0</td>\n",
       "      <td>0</td>\n",
       "      <td>30.0</td>\n",
       "      <td>0.183</td>\n",
       "      <td>38</td>\n",
       "      <td>1</td>\n",
       "    </tr>\n",
       "    <tr>\n",
       "      <th>484</th>\n",
       "      <td>0</td>\n",
       "      <td>145</td>\n",
       "      <td>0</td>\n",
       "      <td>0</td>\n",
       "      <td>0</td>\n",
       "      <td>44.2</td>\n",
       "      <td>0.630</td>\n",
       "      <td>31</td>\n",
       "      <td>1</td>\n",
       "    </tr>\n",
       "    <tr>\n",
       "      <th>494</th>\n",
       "      <td>3</td>\n",
       "      <td>80</td>\n",
       "      <td>0</td>\n",
       "      <td>0</td>\n",
       "      <td>0</td>\n",
       "      <td>0.0</td>\n",
       "      <td>0.174</td>\n",
       "      <td>22</td>\n",
       "      <td>0</td>\n",
       "    </tr>\n",
       "    <tr>\n",
       "      <th>522</th>\n",
       "      <td>6</td>\n",
       "      <td>114</td>\n",
       "      <td>0</td>\n",
       "      <td>0</td>\n",
       "      <td>0</td>\n",
       "      <td>0.0</td>\n",
       "      <td>0.189</td>\n",
       "      <td>26</td>\n",
       "      <td>0</td>\n",
       "    </tr>\n",
       "    <tr>\n",
       "      <th>533</th>\n",
       "      <td>6</td>\n",
       "      <td>91</td>\n",
       "      <td>0</td>\n",
       "      <td>0</td>\n",
       "      <td>0</td>\n",
       "      <td>29.8</td>\n",
       "      <td>0.501</td>\n",
       "      <td>31</td>\n",
       "      <td>0</td>\n",
       "    </tr>\n",
       "    <tr>\n",
       "      <th>535</th>\n",
       "      <td>4</td>\n",
       "      <td>132</td>\n",
       "      <td>0</td>\n",
       "      <td>0</td>\n",
       "      <td>0</td>\n",
       "      <td>32.9</td>\n",
       "      <td>0.302</td>\n",
       "      <td>23</td>\n",
       "      <td>1</td>\n",
       "    </tr>\n",
       "    <tr>\n",
       "      <th>589</th>\n",
       "      <td>0</td>\n",
       "      <td>73</td>\n",
       "      <td>0</td>\n",
       "      <td>0</td>\n",
       "      <td>0</td>\n",
       "      <td>21.1</td>\n",
       "      <td>0.342</td>\n",
       "      <td>25</td>\n",
       "      <td>0</td>\n",
       "    </tr>\n",
       "    <tr>\n",
       "      <th>601</th>\n",
       "      <td>6</td>\n",
       "      <td>96</td>\n",
       "      <td>0</td>\n",
       "      <td>0</td>\n",
       "      <td>0</td>\n",
       "      <td>23.7</td>\n",
       "      <td>0.190</td>\n",
       "      <td>28</td>\n",
       "      <td>0</td>\n",
       "    </tr>\n",
       "    <tr>\n",
       "      <th>604</th>\n",
       "      <td>4</td>\n",
       "      <td>183</td>\n",
       "      <td>0</td>\n",
       "      <td>0</td>\n",
       "      <td>0</td>\n",
       "      <td>28.4</td>\n",
       "      <td>0.212</td>\n",
       "      <td>36</td>\n",
       "      <td>1</td>\n",
       "    </tr>\n",
       "    <tr>\n",
       "      <th>619</th>\n",
       "      <td>0</td>\n",
       "      <td>119</td>\n",
       "      <td>0</td>\n",
       "      <td>0</td>\n",
       "      <td>0</td>\n",
       "      <td>32.4</td>\n",
       "      <td>0.141</td>\n",
       "      <td>24</td>\n",
       "      <td>1</td>\n",
       "    </tr>\n",
       "    <tr>\n",
       "      <th>643</th>\n",
       "      <td>4</td>\n",
       "      <td>90</td>\n",
       "      <td>0</td>\n",
       "      <td>0</td>\n",
       "      <td>0</td>\n",
       "      <td>28.0</td>\n",
       "      <td>0.610</td>\n",
       "      <td>31</td>\n",
       "      <td>0</td>\n",
       "    </tr>\n",
       "    <tr>\n",
       "      <th>697</th>\n",
       "      <td>0</td>\n",
       "      <td>99</td>\n",
       "      <td>0</td>\n",
       "      <td>0</td>\n",
       "      <td>0</td>\n",
       "      <td>25.0</td>\n",
       "      <td>0.253</td>\n",
       "      <td>22</td>\n",
       "      <td>0</td>\n",
       "    </tr>\n",
       "    <tr>\n",
       "      <th>703</th>\n",
       "      <td>2</td>\n",
       "      <td>129</td>\n",
       "      <td>0</td>\n",
       "      <td>0</td>\n",
       "      <td>0</td>\n",
       "      <td>38.5</td>\n",
       "      <td>0.304</td>\n",
       "      <td>41</td>\n",
       "      <td>0</td>\n",
       "    </tr>\n",
       "    <tr>\n",
       "      <th>706</th>\n",
       "      <td>10</td>\n",
       "      <td>115</td>\n",
       "      <td>0</td>\n",
       "      <td>0</td>\n",
       "      <td>0</td>\n",
       "      <td>0.0</td>\n",
       "      <td>0.261</td>\n",
       "      <td>30</td>\n",
       "      <td>1</td>\n",
       "    </tr>\n",
       "  </tbody>\n",
       "</table>\n",
       "</div>"
      ],
      "text/plain": [
       "     Pregnancies  Glucose  BloodPressure  SkinThickness  Insulin   BMI  \\\n",
       "7             10      115              0              0        0  35.3   \n",
       "15             7      100              0              0        0  30.0   \n",
       "49             7      105              0              0        0   0.0   \n",
       "60             2       84              0              0        0   0.0   \n",
       "78             0      131              0              0        0  43.2   \n",
       "81             2       74              0              0        0   0.0   \n",
       "172            2       87              0             23        0  28.9   \n",
       "193           11      135              0              0        0  52.3   \n",
       "222            7      119              0              0        0  25.2   \n",
       "261            3      141              0              0        0  30.0   \n",
       "266            0      138              0              0        0  36.3   \n",
       "269            2      146              0              0        0  27.5   \n",
       "300            0      167              0              0        0  32.3   \n",
       "332            1      180              0              0        0  43.3   \n",
       "336            0      117              0              0        0  33.8   \n",
       "347            3      116              0              0        0  23.5   \n",
       "357           13      129              0             30        0  39.9   \n",
       "426            0       94              0              0        0   0.0   \n",
       "430            2       99              0              0        0  22.2   \n",
       "435            0      141              0              0        0  42.4   \n",
       "453            2      119              0              0        0  19.6   \n",
       "468            8      120              0              0        0  30.0   \n",
       "484            0      145              0              0        0  44.2   \n",
       "494            3       80              0              0        0   0.0   \n",
       "522            6      114              0              0        0   0.0   \n",
       "533            6       91              0              0        0  29.8   \n",
       "535            4      132              0              0        0  32.9   \n",
       "589            0       73              0              0        0  21.1   \n",
       "601            6       96              0              0        0  23.7   \n",
       "604            4      183              0              0        0  28.4   \n",
       "619            0      119              0              0        0  32.4   \n",
       "643            4       90              0              0        0  28.0   \n",
       "697            0       99              0              0        0  25.0   \n",
       "703            2      129              0              0        0  38.5   \n",
       "706           10      115              0              0        0   0.0   \n",
       "\n",
       "     DiabetesPedigreeFunction  Age  Outcome  \n",
       "7                       0.134   29        0  \n",
       "15                      0.484   32        1  \n",
       "49                      0.305   24        0  \n",
       "60                      0.304   21        0  \n",
       "78                      0.270   26        1  \n",
       "81                      0.102   22        0  \n",
       "172                     0.773   25        0  \n",
       "193                     0.578   40        1  \n",
       "222                     0.209   37        0  \n",
       "261                     0.761   27        1  \n",
       "266                     0.933   25        1  \n",
       "269                     0.240   28        1  \n",
       "300                     0.839   30        1  \n",
       "332                     0.282   41        1  \n",
       "336                     0.932   44        0  \n",
       "347                     0.187   23        0  \n",
       "357                     0.569   44        1  \n",
       "426                     0.256   25        0  \n",
       "430                     0.108   23        0  \n",
       "435                     0.205   29        1  \n",
       "453                     0.832   72        0  \n",
       "468                     0.183   38        1  \n",
       "484                     0.630   31        1  \n",
       "494                     0.174   22        0  \n",
       "522                     0.189   26        0  \n",
       "533                     0.501   31        0  \n",
       "535                     0.302   23        1  \n",
       "589                     0.342   25        0  \n",
       "601                     0.190   28        0  \n",
       "604                     0.212   36        1  \n",
       "619                     0.141   24        1  \n",
       "643                     0.610   31        0  \n",
       "697                     0.253   22        0  \n",
       "703                     0.304   41        0  \n",
       "706                     0.261   30        1  "
      ]
     },
     "execution_count": 988,
     "metadata": {},
     "output_type": "execute_result"
    }
   ],
   "source": [
    "df[df['BloodPressure']==0]"
   ]
  },
  {
   "cell_type": "code",
   "execution_count": 989,
   "id": "2bbb4d45",
   "metadata": {},
   "outputs": [
    {
     "data": {
      "text/plain": [
       "35"
      ]
     },
     "execution_count": 989,
     "metadata": {},
     "output_type": "execute_result"
    }
   ],
   "source": [
    "df['BloodPressure'].value_counts().get(0,0)"
   ]
  },
  {
   "cell_type": "code",
   "execution_count": 990,
   "id": "6a887eba",
   "metadata": {},
   "outputs": [
    {
     "data": {
      "text/plain": [
       "11"
      ]
     },
     "execution_count": 990,
     "metadata": {},
     "output_type": "execute_result"
    }
   ],
   "source": [
    "df['BMI'].value_counts().get(0,0)"
   ]
  },
  {
   "cell_type": "code",
   "execution_count": 991,
   "id": "df586cf3",
   "metadata": {},
   "outputs": [
    {
     "data": {
      "text/plain": [
       "227"
      ]
     },
     "execution_count": 991,
     "metadata": {},
     "output_type": "execute_result"
    }
   ],
   "source": [
    "df['SkinThickness'].value_counts().get(0,0)"
   ]
  },
  {
   "cell_type": "code",
   "execution_count": 992,
   "id": "be1f3806",
   "metadata": {},
   "outputs": [
    {
     "data": {
      "text/plain": [
       "Index(['Pregnancies', 'Glucose', 'BloodPressure', 'SkinThickness', 'Insulin',\n",
       "       'BMI', 'DiabetesPedigreeFunction', 'Age', 'Outcome'],\n",
       "      dtype='object')"
      ]
     },
     "execution_count": 992,
     "metadata": {},
     "output_type": "execute_result"
    }
   ],
   "source": [
    "df.keys()"
   ]
  },
  {
   "cell_type": "code",
   "execution_count": 993,
   "id": "dd991851",
   "metadata": {},
   "outputs": [],
   "source": [
    "df1=df\n"
   ]
  },
  {
   "cell_type": "code",
   "execution_count": 994,
   "id": "58dada2a",
   "metadata": {},
   "outputs": [
    {
     "name": "stdout",
     "output_type": "stream",
     "text": [
      "<class 'pandas.core.frame.DataFrame'>\n",
      "RangeIndex: 768 entries, 0 to 767\n",
      "Data columns (total 9 columns):\n",
      " #   Column                    Non-Null Count  Dtype  \n",
      "---  ------                    --------------  -----  \n",
      " 0   Pregnancies               768 non-null    int64  \n",
      " 1   Glucose                   768 non-null    int64  \n",
      " 2   BloodPressure             768 non-null    int64  \n",
      " 3   SkinThickness             768 non-null    int64  \n",
      " 4   Insulin                   768 non-null    int64  \n",
      " 5   BMI                       768 non-null    float64\n",
      " 6   DiabetesPedigreeFunction  768 non-null    float64\n",
      " 7   Age                       768 non-null    int64  \n",
      " 8   Outcome                   768 non-null    int64  \n",
      "dtypes: float64(2), int64(7)\n",
      "memory usage: 54.1 KB\n"
     ]
    }
   ],
   "source": [
    "\n",
    "df1.info()\n"
   ]
  },
  {
   "cell_type": "code",
   "execution_count": 995,
   "id": "d69f14c4",
   "metadata": {},
   "outputs": [],
   "source": [
    "#df1['BloodPressure']=pd.to_numeric(df1['BloodPressure']).astype('Int64')"
   ]
  },
  {
   "cell_type": "code",
   "execution_count": 996,
   "id": "cbaf975b",
   "metadata": {},
   "outputs": [],
   "source": [
    "#df1['BMI']=pd.to_numeric(df1['BMI'],errors='coerce').astype('float64')"
   ]
  },
  {
   "cell_type": "code",
   "execution_count": 997,
   "id": "8ee97224",
   "metadata": {},
   "outputs": [],
   "source": [
    "#df1[60:62]\n",
    "df1.drop(['SkinThickness'],axis=1,inplace=True)"
   ]
  },
  {
   "cell_type": "code",
   "execution_count": 998,
   "id": "8d7e22cb",
   "metadata": {},
   "outputs": [],
   "source": [
    "bp_mean=df1['BloodPressure'].mean()\n"
   ]
  },
  {
   "cell_type": "code",
   "execution_count": 999,
   "id": "04119222",
   "metadata": {},
   "outputs": [],
   "source": [
    "bmi_mean=df1['BMI'].mean()\n",
    "bp_mean_int=int(bp_mean)"
   ]
  },
  {
   "cell_type": "code",
   "execution_count": 1000,
   "id": "5bdeb6da",
   "metadata": {},
   "outputs": [],
   "source": [
    "df1['BloodPressure'].replace(0,bp_mean_int,inplace=True)\n",
    "df1['BMI'].replace(0,bmi_mean,inplace=True)"
   ]
  },
  {
   "cell_type": "code",
   "execution_count": 1001,
   "id": "586069dd",
   "metadata": {},
   "outputs": [
    {
     "data": {
      "text/html": [
       "<div>\n",
       "<style scoped>\n",
       "    .dataframe tbody tr th:only-of-type {\n",
       "        vertical-align: middle;\n",
       "    }\n",
       "\n",
       "    .dataframe tbody tr th {\n",
       "        vertical-align: top;\n",
       "    }\n",
       "\n",
       "    .dataframe thead th {\n",
       "        text-align: right;\n",
       "    }\n",
       "</style>\n",
       "<table border=\"1\" class=\"dataframe\">\n",
       "  <thead>\n",
       "    <tr style=\"text-align: right;\">\n",
       "      <th></th>\n",
       "      <th>Pregnancies</th>\n",
       "      <th>Glucose</th>\n",
       "      <th>BloodPressure</th>\n",
       "      <th>Insulin</th>\n",
       "      <th>BMI</th>\n",
       "      <th>DiabetesPedigreeFunction</th>\n",
       "      <th>Age</th>\n",
       "      <th>Outcome</th>\n",
       "    </tr>\n",
       "  </thead>\n",
       "  <tbody>\n",
       "  </tbody>\n",
       "</table>\n",
       "</div>"
      ],
      "text/plain": [
       "Empty DataFrame\n",
       "Columns: [Pregnancies, Glucose, BloodPressure, Insulin, BMI, DiabetesPedigreeFunction, Age, Outcome]\n",
       "Index: []"
      ]
     },
     "execution_count": 1001,
     "metadata": {},
     "output_type": "execute_result"
    }
   ],
   "source": [
    "df1[df1['BloodPressure']==0]"
   ]
  },
  {
   "cell_type": "code",
   "execution_count": 1002,
   "id": "15e677ce",
   "metadata": {},
   "outputs": [
    {
     "data": {
      "text/html": [
       "<div>\n",
       "<style scoped>\n",
       "    .dataframe tbody tr th:only-of-type {\n",
       "        vertical-align: middle;\n",
       "    }\n",
       "\n",
       "    .dataframe tbody tr th {\n",
       "        vertical-align: top;\n",
       "    }\n",
       "\n",
       "    .dataframe thead th {\n",
       "        text-align: right;\n",
       "    }\n",
       "</style>\n",
       "<table border=\"1\" class=\"dataframe\">\n",
       "  <thead>\n",
       "    <tr style=\"text-align: right;\">\n",
       "      <th></th>\n",
       "      <th>Pregnancies</th>\n",
       "      <th>Glucose</th>\n",
       "      <th>BloodPressure</th>\n",
       "      <th>Insulin</th>\n",
       "      <th>BMI</th>\n",
       "      <th>DiabetesPedigreeFunction</th>\n",
       "      <th>Age</th>\n",
       "      <th>Outcome</th>\n",
       "    </tr>\n",
       "  </thead>\n",
       "  <tbody>\n",
       "  </tbody>\n",
       "</table>\n",
       "</div>"
      ],
      "text/plain": [
       "Empty DataFrame\n",
       "Columns: [Pregnancies, Glucose, BloodPressure, Insulin, BMI, DiabetesPedigreeFunction, Age, Outcome]\n",
       "Index: []"
      ]
     },
     "execution_count": 1002,
     "metadata": {},
     "output_type": "execute_result"
    }
   ],
   "source": [
    "df1[df1['BMI']==0]"
   ]
  },
  {
   "cell_type": "code",
   "execution_count": 1003,
   "id": "45295950",
   "metadata": {},
   "outputs": [
    {
     "data": {
      "text/plain": [
       "(768, 8)"
      ]
     },
     "execution_count": 1003,
     "metadata": {},
     "output_type": "execute_result"
    }
   ],
   "source": [
    "df1.shape"
   ]
  },
  {
   "cell_type": "code",
   "execution_count": 1004,
   "id": "bf068b28",
   "metadata": {},
   "outputs": [
    {
     "data": {
      "text/plain": [
       "array([[  6.   , 148.   ,  72.   , ...,   0.627,  50.   ,   1.   ],\n",
       "       [  1.   ,  85.   ,  66.   , ...,   0.351,  31.   ,   0.   ],\n",
       "       [  8.   , 183.   ,  64.   , ...,   0.672,  32.   ,   1.   ],\n",
       "       ...,\n",
       "       [  5.   , 121.   ,  72.   , ...,   0.245,  30.   ,   0.   ],\n",
       "       [  1.   , 126.   ,  60.   , ...,   0.349,  47.   ,   1.   ],\n",
       "       [  1.   ,  93.   ,  70.   , ...,   0.315,  23.   ,   0.   ]])"
      ]
     },
     "execution_count": 1004,
     "metadata": {},
     "output_type": "execute_result"
    }
   ],
   "source": [
    "df1.values"
   ]
  },
  {
   "cell_type": "code",
   "execution_count": 1005,
   "id": "d5cd49d4",
   "metadata": {},
   "outputs": [],
   "source": [
    "df1['BloodPressure'].fillna(bp_mean_int,inplace=True)"
   ]
  },
  {
   "cell_type": "code",
   "execution_count": 1006,
   "id": "2fc763a0",
   "metadata": {},
   "outputs": [],
   "source": [
    "df1['BMI'].fillna(bmi_mean,inplace=True)"
   ]
  },
  {
   "cell_type": "code",
   "execution_count": 1007,
   "id": "d84ca586",
   "metadata": {},
   "outputs": [],
   "source": [
    "df1['Insulin'].replace(0,df['Insulin'].mean(),inplace=True)"
   ]
  },
  {
   "cell_type": "code",
   "execution_count": 1008,
   "id": "bd3d385c",
   "metadata": {},
   "outputs": [],
   "source": [
    "x=df1.drop(['Outcome'],axis=1)"
   ]
  },
  {
   "cell_type": "code",
   "execution_count": 1009,
   "id": "ad85201a",
   "metadata": {},
   "outputs": [
    {
     "data": {
      "text/html": [
       "<div>\n",
       "<style scoped>\n",
       "    .dataframe tbody tr th:only-of-type {\n",
       "        vertical-align: middle;\n",
       "    }\n",
       "\n",
       "    .dataframe tbody tr th {\n",
       "        vertical-align: top;\n",
       "    }\n",
       "\n",
       "    .dataframe thead th {\n",
       "        text-align: right;\n",
       "    }\n",
       "</style>\n",
       "<table border=\"1\" class=\"dataframe\">\n",
       "  <thead>\n",
       "    <tr style=\"text-align: right;\">\n",
       "      <th></th>\n",
       "      <th>Pregnancies</th>\n",
       "      <th>Glucose</th>\n",
       "      <th>BloodPressure</th>\n",
       "      <th>Insulin</th>\n",
       "      <th>BMI</th>\n",
       "      <th>DiabetesPedigreeFunction</th>\n",
       "      <th>Age</th>\n",
       "    </tr>\n",
       "  </thead>\n",
       "  <tbody>\n",
       "    <tr>\n",
       "      <th>60</th>\n",
       "      <td>2</td>\n",
       "      <td>84</td>\n",
       "      <td>69</td>\n",
       "      <td>79.799479</td>\n",
       "      <td>31.992578</td>\n",
       "      <td>0.304</td>\n",
       "      <td>21</td>\n",
       "    </tr>\n",
       "    <tr>\n",
       "      <th>61</th>\n",
       "      <td>8</td>\n",
       "      <td>133</td>\n",
       "      <td>72</td>\n",
       "      <td>79.799479</td>\n",
       "      <td>32.900000</td>\n",
       "      <td>0.270</td>\n",
       "      <td>39</td>\n",
       "    </tr>\n",
       "  </tbody>\n",
       "</table>\n",
       "</div>"
      ],
      "text/plain": [
       "    Pregnancies  Glucose  BloodPressure    Insulin        BMI  \\\n",
       "60            2       84             69  79.799479  31.992578   \n",
       "61            8      133             72  79.799479  32.900000   \n",
       "\n",
       "    DiabetesPedigreeFunction  Age  \n",
       "60                     0.304   21  \n",
       "61                     0.270   39  "
      ]
     },
     "execution_count": 1009,
     "metadata": {},
     "output_type": "execute_result"
    }
   ],
   "source": [
    "x[60:62]"
   ]
  },
  {
   "cell_type": "code",
   "execution_count": 1010,
   "id": "b5e73254",
   "metadata": {},
   "outputs": [],
   "source": [
    "y=df1['Outcome']"
   ]
  },
  {
   "cell_type": "code",
   "execution_count": 1011,
   "id": "0081b59a",
   "metadata": {},
   "outputs": [],
   "source": [
    "train_x,test_x,train_y,test_y=train_test_split(x,y,test_size=0.2,random_state=42)"
   ]
  },
  {
   "cell_type": "code",
   "execution_count": 1012,
   "id": "86c4bb69",
   "metadata": {},
   "outputs": [
    {
     "data": {
      "text/html": [
       "<div>\n",
       "<style scoped>\n",
       "    .dataframe tbody tr th:only-of-type {\n",
       "        vertical-align: middle;\n",
       "    }\n",
       "\n",
       "    .dataframe tbody tr th {\n",
       "        vertical-align: top;\n",
       "    }\n",
       "\n",
       "    .dataframe thead th {\n",
       "        text-align: right;\n",
       "    }\n",
       "</style>\n",
       "<table border=\"1\" class=\"dataframe\">\n",
       "  <thead>\n",
       "    <tr style=\"text-align: right;\">\n",
       "      <th></th>\n",
       "      <th>Pregnancies</th>\n",
       "      <th>Glucose</th>\n",
       "      <th>BloodPressure</th>\n",
       "      <th>Insulin</th>\n",
       "      <th>BMI</th>\n",
       "      <th>DiabetesPedigreeFunction</th>\n",
       "      <th>Age</th>\n",
       "    </tr>\n",
       "  </thead>\n",
       "  <tbody>\n",
       "    <tr>\n",
       "      <th>60</th>\n",
       "      <td>2</td>\n",
       "      <td>84</td>\n",
       "      <td>69</td>\n",
       "      <td>79.799479</td>\n",
       "      <td>31.992578</td>\n",
       "      <td>0.304</td>\n",
       "      <td>21</td>\n",
       "    </tr>\n",
       "    <tr>\n",
       "      <th>618</th>\n",
       "      <td>9</td>\n",
       "      <td>112</td>\n",
       "      <td>82</td>\n",
       "      <td>79.799479</td>\n",
       "      <td>28.200000</td>\n",
       "      <td>1.282</td>\n",
       "      <td>50</td>\n",
       "    </tr>\n",
       "    <tr>\n",
       "      <th>346</th>\n",
       "      <td>1</td>\n",
       "      <td>139</td>\n",
       "      <td>46</td>\n",
       "      <td>83.000000</td>\n",
       "      <td>28.700000</td>\n",
       "      <td>0.654</td>\n",
       "      <td>22</td>\n",
       "    </tr>\n",
       "    <tr>\n",
       "      <th>294</th>\n",
       "      <td>0</td>\n",
       "      <td>161</td>\n",
       "      <td>50</td>\n",
       "      <td>79.799479</td>\n",
       "      <td>21.900000</td>\n",
       "      <td>0.254</td>\n",
       "      <td>65</td>\n",
       "    </tr>\n",
       "    <tr>\n",
       "      <th>231</th>\n",
       "      <td>6</td>\n",
       "      <td>134</td>\n",
       "      <td>80</td>\n",
       "      <td>370.000000</td>\n",
       "      <td>46.200000</td>\n",
       "      <td>0.238</td>\n",
       "      <td>46</td>\n",
       "    </tr>\n",
       "    <tr>\n",
       "      <th>...</th>\n",
       "      <td>...</td>\n",
       "      <td>...</td>\n",
       "      <td>...</td>\n",
       "      <td>...</td>\n",
       "      <td>...</td>\n",
       "      <td>...</td>\n",
       "      <td>...</td>\n",
       "    </tr>\n",
       "    <tr>\n",
       "      <th>71</th>\n",
       "      <td>5</td>\n",
       "      <td>139</td>\n",
       "      <td>64</td>\n",
       "      <td>140.000000</td>\n",
       "      <td>28.600000</td>\n",
       "      <td>0.411</td>\n",
       "      <td>26</td>\n",
       "    </tr>\n",
       "    <tr>\n",
       "      <th>106</th>\n",
       "      <td>1</td>\n",
       "      <td>96</td>\n",
       "      <td>122</td>\n",
       "      <td>79.799479</td>\n",
       "      <td>22.400000</td>\n",
       "      <td>0.207</td>\n",
       "      <td>27</td>\n",
       "    </tr>\n",
       "    <tr>\n",
       "      <th>270</th>\n",
       "      <td>10</td>\n",
       "      <td>101</td>\n",
       "      <td>86</td>\n",
       "      <td>79.799479</td>\n",
       "      <td>45.600000</td>\n",
       "      <td>1.136</td>\n",
       "      <td>38</td>\n",
       "    </tr>\n",
       "    <tr>\n",
       "      <th>435</th>\n",
       "      <td>0</td>\n",
       "      <td>141</td>\n",
       "      <td>69</td>\n",
       "      <td>79.799479</td>\n",
       "      <td>42.400000</td>\n",
       "      <td>0.205</td>\n",
       "      <td>29</td>\n",
       "    </tr>\n",
       "    <tr>\n",
       "      <th>102</th>\n",
       "      <td>0</td>\n",
       "      <td>125</td>\n",
       "      <td>96</td>\n",
       "      <td>79.799479</td>\n",
       "      <td>22.500000</td>\n",
       "      <td>0.262</td>\n",
       "      <td>21</td>\n",
       "    </tr>\n",
       "  </tbody>\n",
       "</table>\n",
       "<p>614 rows × 7 columns</p>\n",
       "</div>"
      ],
      "text/plain": [
       "     Pregnancies  Glucose  BloodPressure     Insulin        BMI  \\\n",
       "60             2       84             69   79.799479  31.992578   \n",
       "618            9      112             82   79.799479  28.200000   \n",
       "346            1      139             46   83.000000  28.700000   \n",
       "294            0      161             50   79.799479  21.900000   \n",
       "231            6      134             80  370.000000  46.200000   \n",
       "..           ...      ...            ...         ...        ...   \n",
       "71             5      139             64  140.000000  28.600000   \n",
       "106            1       96            122   79.799479  22.400000   \n",
       "270           10      101             86   79.799479  45.600000   \n",
       "435            0      141             69   79.799479  42.400000   \n",
       "102            0      125             96   79.799479  22.500000   \n",
       "\n",
       "     DiabetesPedigreeFunction  Age  \n",
       "60                      0.304   21  \n",
       "618                     1.282   50  \n",
       "346                     0.654   22  \n",
       "294                     0.254   65  \n",
       "231                     0.238   46  \n",
       "..                        ...  ...  \n",
       "71                      0.411   26  \n",
       "106                     0.207   27  \n",
       "270                     1.136   38  \n",
       "435                     0.205   29  \n",
       "102                     0.262   21  \n",
       "\n",
       "[614 rows x 7 columns]"
      ]
     },
     "execution_count": 1012,
     "metadata": {},
     "output_type": "execute_result"
    }
   ],
   "source": [
    "train_x"
   ]
  },
  {
   "cell_type": "code",
   "execution_count": 1013,
   "metadata": {},
   "outputs": [],
   "source": [
    "correlation_matrix=df.corr()"
   ]
  },
  {
   "cell_type": "code",
   "execution_count": 1014,
   "metadata": {},
   "outputs": [
    {
     "data": {
      "text/plain": [
       "<Axes: >"
      ]
     },
     "execution_count": 1014,
     "metadata": {},
     "output_type": "execute_result"
    },
    {
     "data": {
      "image/png": "[encoded data removed]",
      "text/plain": [
       "<Figure size 640x480 with 2 Axes>"
      ]
     },
     "metadata": {},
     "output_type": "display_data"
    }
   ],
   "source": [
    "sn.heatmap(correlation_matrix,annot=True,cmap='coolwarm',fmt=\".2f\")"
   ]
  },
  {
   "cell_type": "code",
   "execution_count": 1015,
   "id": "5ee864d0",
   "metadata": {},
   "outputs": [],
   "source": [
    "scaler=MinMaxScaler()"
   ]
  },
  {
   "cell_type": "code",
   "execution_count": 1016,
   "id": "6e26412b",
   "metadata": {
    "scrolled": true
   },
   "outputs": [
    {
     "data": {
      "text/plain": [
       "array([[0.11764706, 0.42211055, 0.45918367, ..., 0.28205681, 0.09649872,\n",
       "        0.        ],\n",
       "       [0.52941176, 0.56281407, 0.59183673, ..., 0.20449898, 0.51409052,\n",
       "        0.48333333],\n",
       "       [0.05882353, 0.69849246, 0.2244898 , ..., 0.21472393, 0.24594364,\n",
       "        0.01666667],\n",
       "       ...,\n",
       "       [0.58823529, 0.50753769, 0.63265306, ..., 0.5603272 , 0.45175064,\n",
       "        0.28333333],\n",
       "       [0.        , 0.70854271, 0.45918367, ..., 0.49488753, 0.05422716,\n",
       "        0.13333333],\n",
       "       [0.        , 0.6281407 , 0.73469388, ..., 0.08793456, 0.07856533,\n",
       "        0.        ]])"
      ]
     },
     "execution_count": 1016,
     "metadata": {},
     "output_type": "execute_result"
    }
   ],
   "source": [
    "scaler.fit_transform(train_x)"
   ]
  },
  {
   "cell_type": "code",
   "execution_count": 1017,
   "id": "26d867e0",
   "metadata": {},
   "outputs": [
    {
     "data": {
      "text/plain": [
       "array([[0.35294118, 0.49246231, 0.34693878, ..., 0.32310838, 0.15029889,\n",
       "        0.36666667],\n",
       "       [0.11764706, 0.56281407, 0.52040816, ..., 0.35787321, 0.02988898,\n",
       "        0.        ],\n",
       "       [0.11764706, 0.54271357, 0.40816327, ..., 0.25766871, 0.03415884,\n",
       "        0.        ],\n",
       "       ...,\n",
       "       [0.47058824, 0.47738693, 0.48979592, ..., 0.3803681 , 0.17378309,\n",
       "        0.6       ],\n",
       "       [0.11764706, 0.73366834, 0.46938776, ..., 0.200409  , 0.11058924,\n",
       "        0.13333333],\n",
       "       [0.47058824, 0.3718593 , 0.46938776, ..., 0.34969325, 0.2677199 ,\n",
       "        0.3       ]])"
      ]
     },
     "execution_count": 1017,
     "metadata": {},
     "output_type": "execute_result"
    }
   ],
   "source": [
    "scaler.transform(test_x)"
   ]
  },
  {
   "cell_type": "code",
   "execution_count": 1018,
   "metadata": {},
   "outputs": [],
   "source": [
    "#decision tree"
   ]
  },
  {
   "cell_type": "code",
   "execution_count": 1019,
   "id": "9f0ceaf3",
   "metadata": {},
   "outputs": [],
   "source": [
    "model1 =DecisionTreeClassifier()"
   ]
  },
  {
   "cell_type": "code",
   "execution_count": 1020,
   "id": "82708019",
   "metadata": {},
   "outputs": [
    {
     "data": {
      "text/html": [
       "<style>#sk-container-id-73 {color: black;background-color: white;}#sk-container-id-73 pre{padding: 0;}#sk-container-id-73 div.sk-toggleable {background-color: white;}#sk-container-id-73 label.sk-toggleable__label {cursor: pointer;display: block;width: 100%;margin-bottom: 0;padding: 0.3em;box-sizing: border-box;text-align: center;}#sk-container-id-73 label.sk-toggleable__label-arrow:before {content: \"▸\";float: left;margin-right: 0.25em;color: #696969;}#sk-container-id-73 label.sk-toggleable__label-arrow:hover:before {color: black;}#sk-container-id-73 div.sk-estimator:hover label.sk-toggleable__label-arrow:before {color: black;}#sk-container-id-73 div.sk-toggleable__content {max-height: 0;max-width: 0;overflow: hidden;text-align: left;background-color: #f0f8ff;}#sk-container-id-73 div.sk-toggleable__content pre {margin: 0.2em;color: black;border-radius: 0.25em;background-color: #f0f8ff;}#sk-container-id-73 input.sk-toggleable__control:checked~div.sk-toggleable__content {max-height: 200px;max-width: 100%;overflow: auto;}#sk-container-id-73 input.sk-toggleable__control:checked~label.sk-toggleable__label-arrow:before {content: \"▾\";}#sk-container-id-73 div.sk-estimator input.sk-toggleable__control:checked~label.sk-toggleable__label {background-color: #d4ebff;}#sk-container-id-73 div.sk-label input.sk-toggleable__control:checked~label.sk-toggleable__label {background-color: #d4ebff;}#sk-container-id-73 input.sk-hidden--visually {border: 0;clip: rect(1px 1px 1px 1px);clip: rect(1px, 1px, 1px, 1px);height: 1px;margin: -1px;overflow: hidden;padding: 0;position: absolute;width: 1px;}#sk-container-id-73 div.sk-estimator {font-family: monospace;background-color: #f0f8ff;border: 1px dotted black;border-radius: 0.25em;box-sizing: border-box;margin-bottom: 0.5em;}#sk-container-id-73 div.sk-estimator:hover {background-color: #d4ebff;}#sk-container-id-73 div.sk-parallel-item::after {content: \"\";width: 100%;border-bottom: 1px solid gray;flex-grow: 1;}#sk-container-id-73 div.sk-label:hover label.sk-toggleable__label {background-color: #d4ebff;}#sk-container-id-73 div.sk-serial::before {content: \"\";position: absolute;border-left: 1px solid gray;box-sizing: border-box;top: 0;bottom: 0;left: 50%;z-index: 0;}#sk-container-id-73 div.sk-serial {display: flex;flex-direction: column;align-items: center;background-color: white;padding-right: 0.2em;padding-left: 0.2em;position: relative;}#sk-container-id-73 div.sk-item {position: relative;z-index: 1;}#sk-container-id-73 div.sk-parallel {display: flex;align-items: stretch;justify-content: center;background-color: white;position: relative;}#sk-container-id-73 div.sk-item::before, #sk-container-id-73 div.sk-parallel-item::before {content: \"\";position: absolute;border-left: 1px solid gray;box-sizing: border-box;top: 0;bottom: 0;left: 50%;z-index: -1;}#sk-container-id-73 div.sk-parallel-item {display: flex;flex-direction: column;z-index: 1;position: relative;background-color: white;}#sk-container-id-73 div.sk-parallel-item:first-child::after {align-self: flex-end;width: 50%;}#sk-container-id-73 div.sk-parallel-item:last-child::after {align-self: flex-start;width: 50%;}#sk-container-id-73 div.sk-parallel-item:only-child::after {width: 0;}#sk-container-id-73 div.sk-dashed-wrapped {border: 1px dashed gray;margin: 0 0.4em 0.5em 0.4em;box-sizing: border-box;padding-bottom: 0.4em;background-color: white;}#sk-container-id-73 div.sk-label label {font-family: monospace;font-weight: bold;display: inline-block;line-height: 1.2em;}#sk-container-id-73 div.sk-label-container {text-align: center;}#sk-container-id-73 div.sk-container {/* jupyter's `normalize.less` sets `[hidden] { display: none; }` but bootstrap.min.css set `[hidden] { display: none !important; }` so we also need the `!important` here to be able to override the default hidden behavior on the sphinx rendered scikit-learn.org. See: https://github.com/scikit-learn/scikit-learn/issues/21755 */display: inline-block !important;position: relative;}#sk-container-id-73 div.sk-text-repr-fallback {display: none;}</style><div id=\"sk-container-id-73\" class=\"sk-top-container\"><div class=\"sk-text-repr-fallback\"><pre>DecisionTreeClassifier()</pre><b>In a Jupyter environment, please rerun this cell to show the HTML representation or trust the notebook. <br />On GitHub, the HTML representation is unable to render, please try loading this page with nbviewer.org.</b></div><div class=\"sk-container\" hidden><div class=\"sk-item\"><div class=\"sk-estimator sk-toggleable\"><input class=\"sk-toggleable__control sk-hidden--visually\" id=\"sk-estimator-id-95\" type=\"checkbox\" checked><label for=\"sk-estimator-id-95\" class=\"sk-toggleable__label sk-toggleable__label-arrow\">DecisionTreeClassifier</label><div class=\"sk-toggleable__content\"><pre>DecisionTreeClassifier()</pre></div></div></div></div></div>"
      ],
      "text/plain": [
       "DecisionTreeClassifier()"
      ]
     },
     "execution_count": 1020,
     "metadata": {},
     "output_type": "execute_result"
    }
   ],
   "source": [
    "model1.fit(train_x,train_y)"
   ]
  },
  {
   "cell_type": "code",
   "execution_count": 1021,
   "id": "b1c7183e",
   "metadata": {},
   "outputs": [],
   "source": [
    "predicted_y=model1.predict(test_x)"
   ]
  },
  {
   "cell_type": "code",
   "execution_count": 1022,
   "id": "5e03ad37",
   "metadata": {},
   "outputs": [],
   "source": [
    "accuracy=accuracy_score(predicted_y,test_y)"
   ]
  },
  {
   "cell_type": "code",
   "execution_count": 1023,
   "id": "8ad58e14",
   "metadata": {},
   "outputs": [
    {
     "data": {
      "text/plain": [
       "0.7532467532467533"
      ]
     },
     "execution_count": 1023,
     "metadata": {},
     "output_type": "execute_result"
    }
   ],
   "source": [
    "accuracy"
   ]
  },
  {
   "cell_type": "code",
   "execution_count": 1024,
   "metadata": {},
   "outputs": [],
   "source": [
    "#knn"
   ]
  },
  {
   "cell_type": "code",
   "execution_count": 1025,
   "metadata": {},
   "outputs": [
    {
     "data": {
      "text/plain": [
       "[0.6688311688311688,\n",
       " 0.7012987012987013,\n",
       " 0.6948051948051948,\n",
       " 0.7337662337662337,\n",
       " 0.7012987012987013,\n",
       " 0.6883116883116883,\n",
       " 0.6818181818181818,\n",
       " 0.7077922077922078,\n",
       " 0.6883116883116883,\n",
       " 0.7142857142857143,\n",
       " 0.7337662337662337,\n",
       " 0.7272727272727273,\n",
       " 0.7077922077922078,\n",
       " 0.7337662337662337,\n",
       " 0.7207792207792207,\n",
       " 0.7207792207792207,\n",
       " 0.7272727272727273,\n",
       " 0.7142857142857143,\n",
       " 0.7272727272727273,\n",
       " 0.7207792207792207,\n",
       " 0.7207792207792207,\n",
       " 0.7142857142857143,\n",
       " 0.7142857142857143,\n",
       " 0.7142857142857143,\n",
       " 0.7207792207792207,\n",
       " 0.7207792207792207,\n",
       " 0.7272727272727273,\n",
       " 0.7337662337662337,\n",
       " 0.7337662337662337,\n",
       " 0.7402597402597403,\n",
       " 0.7532467532467533,\n",
       " 0.7532467532467533,\n",
       " 0.7532467532467533,\n",
       " 0.7597402597402597,\n",
       " 0.7532467532467533,\n",
       " 0.7337662337662337,\n",
       " 0.7467532467532467,\n",
       " 0.7207792207792207,\n",
       " 0.7337662337662337,\n",
       " 0.7337662337662337,\n",
       " 0.7272727272727273,\n",
       " 0.7272727272727273,\n",
       " 0.7077922077922078,\n",
       " 0.7207792207792207,\n",
       " 0.7142857142857143,\n",
       " 0.7272727272727273,\n",
       " 0.7337662337662337,\n",
       " 0.7337662337662337,\n",
       " 0.7272727272727273,\n",
       " 0.7337662337662337,\n",
       " 0.7402597402597403,\n",
       " 0.7337662337662337,\n",
       " 0.7142857142857143,\n",
       " 0.7142857142857143,\n",
       " 0.7207792207792207,\n",
       " 0.7337662337662337,\n",
       " 0.7402597402597403,\n",
       " 0.7402597402597403,\n",
       " 0.7272727272727273,\n",
       " 0.7207792207792207,\n",
       " 0.7272727272727273,\n",
       " 0.7337662337662337,\n",
       " 0.7402597402597403,\n",
       " 0.7272727272727273,\n",
       " 0.7272727272727273,\n",
       " 0.7272727272727273,\n",
       " 0.7272727272727273,\n",
       " 0.7207792207792207,\n",
       " 0.7207792207792207,\n",
       " 0.7207792207792207,\n",
       " 0.7272727272727273,\n",
       " 0.7207792207792207,\n",
       " 0.7272727272727273,\n",
       " 0.7272727272727273,\n",
       " 0.7272727272727273,\n",
       " 0.7207792207792207,\n",
       " 0.7207792207792207,\n",
       " 0.7142857142857143,\n",
       " 0.7207792207792207,\n",
       " 0.7207792207792207,\n",
       " 0.7207792207792207,\n",
       " 0.7207792207792207,\n",
       " 0.7272727272727273,\n",
       " 0.7337662337662337,\n",
       " 0.7272727272727273,\n",
       " 0.7337662337662337,\n",
       " 0.7272727272727273,\n",
       " 0.7272727272727273,\n",
       " 0.7272727272727273,\n",
       " 0.7337662337662337,\n",
       " 0.7532467532467533,\n",
       " 0.7402597402597403,\n",
       " 0.7337662337662337,\n",
       " 0.7207792207792207,\n",
       " 0.7207792207792207,\n",
       " 0.7272727272727273,\n",
       " 0.7467532467532467,\n",
       " 0.7272727272727273,\n",
       " 0.7207792207792207]"
      ]
     },
     "execution_count": 1025,
     "metadata": {},
     "output_type": "execute_result"
    }
   ],
   "source": [
    "list1=[]\n",
    "for i in range(1,100):\n",
    "    model2=KNeighborsClassifier(n_neighbors=i)\n",
    "   \n",
    "    model2.fit(train_x,train_y)\n",
    "    predictd_y_2=model2.predict(test_x)\n",
    "    accuracy_2=accuracy_score(predictd_y_2,test_y) \n",
    "    list1.append(accuracy_2)\n",
    "list1"
   ]
  },
  {
   "cell_type": "code",
   "execution_count": 1026,
   "metadata": {},
   "outputs": [
    {
     "data": {
      "text/plain": [
       "[<matplotlib.lines.Line2D at 0x2029b913970>]"
      ]
     },
     "execution_count": 1026,
     "metadata": {},
     "output_type": "execute_result"
    },
    {
     "data": {
      "image/png": "[encoded data removed]",
      "text/plain": [
       "<Figure size 640x480 with 1 Axes>"
      ]
     },
     "metadata": {},
     "output_type": "display_data"
    }
   ],
   "source": [
    "\n",
    "plt.plot(list1)"
   ]
  },
  {
   "cell_type": "code",
   "execution_count": 1027,
   "metadata": {},
   "outputs": [
    {
     "data": {
      "text/plain": [
       "0.7597402597402597"
      ]
     },
     "execution_count": 1027,
     "metadata": {},
     "output_type": "execute_result"
    }
   ],
   "source": [
    "max(list1)"
   ]
  },
  {
   "cell_type": "code",
   "execution_count": 1028,
   "metadata": {},
   "outputs": [
    {
     "name": "stdout",
     "output_type": "stream",
     "text": [
      "99\n"
     ]
    }
   ],
   "source": [
    "print(len(list1))\n"
   ]
  },
  {
   "cell_type": "code",
   "execution_count": 1029,
   "metadata": {},
   "outputs": [
    {
     "name": "stdout",
     "output_type": "stream",
     "text": [
      "33\n"
     ]
    }
   ],
   "source": [
    "for i in range(1,99):\n",
    "    if list1[i]==0.7597402597402597:\n",
    "        print(i)"
   ]
  },
  {
   "cell_type": "code",
   "execution_count": 1030,
   "metadata": {},
   "outputs": [
    {
     "data": {
      "text/plain": [
       "array([0.69918699, 0.67479675, 0.66666667, 0.71544715, 0.64754098])"
      ]
     },
     "execution_count": 1030,
     "metadata": {},
     "output_type": "execute_result"
    }
   ],
   "source": [
    "cross_val_score(model,train_x,train_y,scoring='accuracy',cv=5)"
   ]
  },
  {
   "cell_type": "code",
   "execution_count": 1031,
   "metadata": {},
   "outputs": [],
   "source": [
    "# k = 33 "
   ]
  },
  {
   "cell_type": "code",
   "execution_count": 1032,
   "metadata": {},
   "outputs": [
    {
     "data": {
      "text/plain": [
       "array([0.69354839, 0.69354839, 0.77419355, 0.74193548, 0.75409836,\n",
       "       0.78688525, 0.73770492, 0.70491803, 0.73770492, 0.68852459])"
      ]
     },
     "execution_count": 1032,
     "metadata": {},
     "output_type": "execute_result"
    }
   ],
   "source": [
    "cross_val_score(model2,train_x,train_y,scoring='accuracy',cv=10)"
   ]
  },
  {
   "cell_type": "code",
   "execution_count": 1033,
   "id": "f0c3401e",
   "metadata": {},
   "outputs": [],
   "source": [
    "f1score=f1_score(test_y,predicted_y,average=\"binary\")"
   ]
  },
  {
   "cell_type": "code",
   "execution_count": 1034,
   "id": "3f9f1f0c",
   "metadata": {},
   "outputs": [
    {
     "data": {
      "text/plain": [
       "0.6666666666666665"
      ]
     },
     "execution_count": 1034,
     "metadata": {},
     "output_type": "execute_result"
    }
   ],
   "source": [
    "f1score"
   ]
  },
  {
   "cell_type": "code",
   "execution_count": 1035,
   "id": "abfc8c0a",
   "metadata": {},
   "outputs": [],
   "source": [
    "parameters={\n",
    "    'max_depth': [None, 5, 10, 15],\n",
    "    'min_samples_split': [2,10,15,20,25,50,100,150],\n",
    "    'min_samples_leaf': [5,10,15,20]\n",
    "}"
   ]
  },
  {
   "cell_type": "code",
   "execution_count": 1036,
   "id": "6a1b0558",
   "metadata": {},
   "outputs": [],
   "source": [
    "grid_search=GridSearchCV(estimator=model,param_grid=parameters,cv=5,scoring='accuracy',)"
   ]
  },
  {
   "cell_type": "code",
   "execution_count": 1037,
   "id": "1f0896a8",
   "metadata": {},
   "outputs": [
    {
     "data": {
      "text/html": [
       "<style>#sk-container-id-74 {color: black;background-color: white;}#sk-container-id-74 pre{padding: 0;}#sk-container-id-74 div.sk-toggleable {background-color: white;}#sk-container-id-74 label.sk-toggleable__label {cursor: pointer;display: block;width: 100%;margin-bottom: 0;padding: 0.3em;box-sizing: border-box;text-align: center;}#sk-container-id-74 label.sk-toggleable__label-arrow:before {content: \"▸\";float: left;margin-right: 0.25em;color: #696969;}#sk-container-id-74 label.sk-toggleable__label-arrow:hover:before {color: black;}#sk-container-id-74 div.sk-estimator:hover label.sk-toggleable__label-arrow:before {color: black;}#sk-container-id-74 div.sk-toggleable__content {max-height: 0;max-width: 0;overflow: hidden;text-align: left;background-color: #f0f8ff;}#sk-container-id-74 div.sk-toggleable__content pre {margin: 0.2em;color: black;border-radius: 0.25em;background-color: #f0f8ff;}#sk-container-id-74 input.sk-toggleable__control:checked~div.sk-toggleable__content {max-height: 200px;max-width: 100%;overflow: auto;}#sk-container-id-74 input.sk-toggleable__control:checked~label.sk-toggleable__label-arrow:before {content: \"▾\";}#sk-container-id-74 div.sk-estimator input.sk-toggleable__control:checked~label.sk-toggleable__label {background-color: #d4ebff;}#sk-container-id-74 div.sk-label input.sk-toggleable__control:checked~label.sk-toggleable__label {background-color: #d4ebff;}#sk-container-id-74 input.sk-hidden--visually {border: 0;clip: rect(1px 1px 1px 1px);clip: rect(1px, 1px, 1px, 1px);height: 1px;margin: -1px;overflow: hidden;padding: 0;position: absolute;width: 1px;}#sk-container-id-74 div.sk-estimator {font-family: monospace;background-color: #f0f8ff;border: 1px dotted black;border-radius: 0.25em;box-sizing: border-box;margin-bottom: 0.5em;}#sk-container-id-74 div.sk-estimator:hover {background-color: #d4ebff;}#sk-container-id-74 div.sk-parallel-item::after {content: \"\";width: 100%;border-bottom: 1px solid gray;flex-grow: 1;}#sk-container-id-74 div.sk-label:hover label.sk-toggleable__label {background-color: #d4ebff;}#sk-container-id-74 div.sk-serial::before {content: \"\";position: absolute;border-left: 1px solid gray;box-sizing: border-box;top: 0;bottom: 0;left: 50%;z-index: 0;}#sk-container-id-74 div.sk-serial {display: flex;flex-direction: column;align-items: center;background-color: white;padding-right: 0.2em;padding-left: 0.2em;position: relative;}#sk-container-id-74 div.sk-item {position: relative;z-index: 1;}#sk-container-id-74 div.sk-parallel {display: flex;align-items: stretch;justify-content: center;background-color: white;position: relative;}#sk-container-id-74 div.sk-item::before, #sk-container-id-74 div.sk-parallel-item::before {content: \"\";position: absolute;border-left: 1px solid gray;box-sizing: border-box;top: 0;bottom: 0;left: 50%;z-index: -1;}#sk-container-id-74 div.sk-parallel-item {display: flex;flex-direction: column;z-index: 1;position: relative;background-color: white;}#sk-container-id-74 div.sk-parallel-item:first-child::after {align-self: flex-end;width: 50%;}#sk-container-id-74 div.sk-parallel-item:last-child::after {align-self: flex-start;width: 50%;}#sk-container-id-74 div.sk-parallel-item:only-child::after {width: 0;}#sk-container-id-74 div.sk-dashed-wrapped {border: 1px dashed gray;margin: 0 0.4em 0.5em 0.4em;box-sizing: border-box;padding-bottom: 0.4em;background-color: white;}#sk-container-id-74 div.sk-label label {font-family: monospace;font-weight: bold;display: inline-block;line-height: 1.2em;}#sk-container-id-74 div.sk-label-container {text-align: center;}#sk-container-id-74 div.sk-container {/* jupyter's `normalize.less` sets `[hidden] { display: none; }` but bootstrap.min.css set `[hidden] { display: none !important; }` so we also need the `!important` here to be able to override the default hidden behavior on the sphinx rendered scikit-learn.org. See: https://github.com/scikit-learn/scikit-learn/issues/21755 */display: inline-block !important;position: relative;}#sk-container-id-74 div.sk-text-repr-fallback {display: none;}</style><div id=\"sk-container-id-74\" class=\"sk-top-container\"><div class=\"sk-text-repr-fallback\"><pre>GridSearchCV(cv=5, estimator=DecisionTreeClassifier(),\n",
       "             param_grid={&#x27;max_depth&#x27;: [None, 5, 10, 15],\n",
       "                         &#x27;min_samples_leaf&#x27;: [5, 10, 15, 20],\n",
       "                         &#x27;min_samples_split&#x27;: [2, 10, 15, 20, 25, 50, 100,\n",
       "                                               150]},\n",
       "             scoring=&#x27;accuracy&#x27;)</pre><b>In a Jupyter environment, please rerun this cell to show the HTML representation or trust the notebook. <br />On GitHub, the HTML representation is unable to render, please try loading this page with nbviewer.org.</b></div><div class=\"sk-container\" hidden><div class=\"sk-item sk-dashed-wrapped\"><div class=\"sk-label-container\"><div class=\"sk-label sk-toggleable\"><input class=\"sk-toggleable__control sk-hidden--visually\" id=\"sk-estimator-id-96\" type=\"checkbox\" ><label for=\"sk-estimator-id-96\" class=\"sk-toggleable__label sk-toggleable__label-arrow\">GridSearchCV</label><div class=\"sk-toggleable__content\"><pre>GridSearchCV(cv=5, estimator=DecisionTreeClassifier(),\n",
       "             param_grid={&#x27;max_depth&#x27;: [None, 5, 10, 15],\n",
       "                         &#x27;min_samples_leaf&#x27;: [5, 10, 15, 20],\n",
       "                         &#x27;min_samples_split&#x27;: [2, 10, 15, 20, 25, 50, 100,\n",
       "                                               150]},\n",
       "             scoring=&#x27;accuracy&#x27;)</pre></div></div></div><div class=\"sk-parallel\"><div class=\"sk-parallel-item\"><div class=\"sk-item\"><div class=\"sk-label-container\"><div class=\"sk-label sk-toggleable\"><input class=\"sk-toggleable__control sk-hidden--visually\" id=\"sk-estimator-id-97\" type=\"checkbox\" ><label for=\"sk-estimator-id-97\" class=\"sk-toggleable__label sk-toggleable__label-arrow\">estimator: DecisionTreeClassifier</label><div class=\"sk-toggleable__content\"><pre>DecisionTreeClassifier()</pre></div></div></div><div class=\"sk-serial\"><div class=\"sk-item\"><div class=\"sk-estimator sk-toggleable\"><input class=\"sk-toggleable__control sk-hidden--visually\" id=\"sk-estimator-id-98\" type=\"checkbox\" ><label for=\"sk-estimator-id-98\" class=\"sk-toggleable__label sk-toggleable__label-arrow\">DecisionTreeClassifier</label><div class=\"sk-toggleable__content\"><pre>DecisionTreeClassifier()</pre></div></div></div></div></div></div></div></div></div></div>"
      ],
      "text/plain": [
       "GridSearchCV(cv=5, estimator=DecisionTreeClassifier(),\n",
       "             param_grid={'max_depth': [None, 5, 10, 15],\n",
       "                         'min_samples_leaf': [5, 10, 15, 20],\n",
       "                         'min_samples_split': [2, 10, 15, 20, 25, 50, 100,\n",
       "                                               150]},\n",
       "             scoring='accuracy')"
      ]
     },
     "execution_count": 1037,
     "metadata": {},
     "output_type": "execute_result"
    }
   ],
   "source": [
    "grid_search.fit(train_x,train_y)"
   ]
  },
  {
   "cell_type": "code",
   "execution_count": 1038,
   "id": "0f2a3d48",
   "metadata": {},
   "outputs": [],
   "source": [
    "best_parameters=grid_search.best_params_"
   ]
  },
  {
   "cell_type": "code",
   "execution_count": 1039,
   "id": "0ce5854f",
   "metadata": {},
   "outputs": [
    {
     "data": {
      "text/plain": [
       "{'max_depth': None, 'min_samples_leaf': 10, 'min_samples_split': 100}"
      ]
     },
     "execution_count": 1039,
     "metadata": {},
     "output_type": "execute_result"
    }
   ],
   "source": [
    "best_parameters"
   ]
  },
  {
   "cell_type": "code",
   "execution_count": 1040,
   "id": "c7234c8a",
   "metadata": {},
   "outputs": [],
   "source": [
    "best_model=grid_search.best_estimator_"
   ]
  },
  {
   "cell_type": "code",
   "execution_count": 1041,
   "id": "1fd9dec3",
   "metadata": {},
   "outputs": [],
   "source": [
    "predicted_best_y=best_model.predict(test_x)"
   ]
  },
  {
   "cell_type": "code",
   "execution_count": 1042,
   "id": "3532725e",
   "metadata": {},
   "outputs": [],
   "source": [
    "acc=accuracy_score(predicted_best_y,test_y)"
   ]
  },
  {
   "cell_type": "code",
   "execution_count": 1043,
   "id": "819ffd66",
   "metadata": {},
   "outputs": [
    {
     "data": {
      "text/plain": [
       "0.7792207792207793"
      ]
     },
     "execution_count": 1043,
     "metadata": {},
     "output_type": "execute_result"
    }
   ],
   "source": [
    "acc"
   ]
  },
  {
   "cell_type": "code",
   "execution_count": 1044,
   "id": "ecbec86a",
   "metadata": {},
   "outputs": [
    {
     "data": {
      "text/plain": [
       "<Figure size 4000x5000 with 0 Axes>"
      ]
     },
     "metadata": {},
     "output_type": "display_data"
    }
   ],
   "source": [
    "fig = plt.figure(figsize=(40,50))"
   ]
  },
  {
   "cell_type": "code",
   "execution_count": 1045,
   "id": "6e2a8dac",
   "metadata": {},
   "outputs": [
    {
     "data": {
      "image/png": "[encoded data removed]",
      "text/plain": [
       "<Figure size 640x480 with 1 Axes>"
      ]
     },
     "metadata": {},
     "output_type": "display_data"
    }
   ],
   "source": [
    "tree.plot_tree(best_model,fontsize=7)\n",
    "plt.show()"
   ]
  },
  {
   "cell_type": "code",
   "execution_count": 1046,
   "metadata": {},
   "outputs": [],
   "source": [
    "#Random forest"
   ]
  },
  {
   "cell_type": "code",
   "execution_count": 1047,
   "id": "c6a426e4",
   "metadata": {},
   "outputs": [],
   "source": [
    "model_3=RandomForestClassifier(n_estimators=40)"
   ]
  },
  {
   "cell_type": "code",
   "execution_count": 1048,
   "id": "d045ef51",
   "metadata": {},
   "outputs": [
    {
     "data": {
      "text/html": [
       "<style>#sk-container-id-75 {color: black;background-color: white;}#sk-container-id-75 pre{padding: 0;}#sk-container-id-75 div.sk-toggleable {background-color: white;}#sk-container-id-75 label.sk-toggleable__label {cursor: pointer;display: block;width: 100%;margin-bottom: 0;padding: 0.3em;box-sizing: border-box;text-align: center;}#sk-container-id-75 label.sk-toggleable__label-arrow:before {content: \"▸\";float: left;margin-right: 0.25em;color: #696969;}#sk-container-id-75 label.sk-toggleable__label-arrow:hover:before {color: black;}#sk-container-id-75 div.sk-estimator:hover label.sk-toggleable__label-arrow:before {color: black;}#sk-container-id-75 div.sk-toggleable__content {max-height: 0;max-width: 0;overflow: hidden;text-align: left;background-color: #f0f8ff;}#sk-container-id-75 div.sk-toggleable__content pre {margin: 0.2em;color: black;border-radius: 0.25em;background-color: #f0f8ff;}#sk-container-id-75 input.sk-toggleable__control:checked~div.sk-toggleable__content {max-height: 200px;max-width: 100%;overflow: auto;}#sk-container-id-75 input.sk-toggleable__control:checked~label.sk-toggleable__label-arrow:before {content: \"▾\";}#sk-container-id-75 div.sk-estimator input.sk-toggleable__control:checked~label.sk-toggleable__label {background-color: #d4ebff;}#sk-container-id-75 div.sk-label input.sk-toggleable__control:checked~label.sk-toggleable__label {background-color: #d4ebff;}#sk-container-id-75 input.sk-hidden--visually {border: 0;clip: rect(1px 1px 1px 1px);clip: rect(1px, 1px, 1px, 1px);height: 1px;margin: -1px;overflow: hidden;padding: 0;position: absolute;width: 1px;}#sk-container-id-75 div.sk-estimator {font-family: monospace;background-color: #f0f8ff;border: 1px dotted black;border-radius: 0.25em;box-sizing: border-box;margin-bottom: 0.5em;}#sk-container-id-75 div.sk-estimator:hover {background-color: #d4ebff;}#sk-container-id-75 div.sk-parallel-item::after {content: \"\";width: 100%;border-bottom: 1px solid gray;flex-grow: 1;}#sk-container-id-75 div.sk-label:hover label.sk-toggleable__label {background-color: #d4ebff;}#sk-container-id-75 div.sk-serial::before {content: \"\";position: absolute;border-left: 1px solid gray;box-sizing: border-box;top: 0;bottom: 0;left: 50%;z-index: 0;}#sk-container-id-75 div.sk-serial {display: flex;flex-direction: column;align-items: center;background-color: white;padding-right: 0.2em;padding-left: 0.2em;position: relative;}#sk-container-id-75 div.sk-item {position: relative;z-index: 1;}#sk-container-id-75 div.sk-parallel {display: flex;align-items: stretch;justify-content: center;background-color: white;position: relative;}#sk-container-id-75 div.sk-item::before, #sk-container-id-75 div.sk-parallel-item::before {content: \"\";position: absolute;border-left: 1px solid gray;box-sizing: border-box;top: 0;bottom: 0;left: 50%;z-index: -1;}#sk-container-id-75 div.sk-parallel-item {display: flex;flex-direction: column;z-index: 1;position: relative;background-color: white;}#sk-container-id-75 div.sk-parallel-item:first-child::after {align-self: flex-end;width: 50%;}#sk-container-id-75 div.sk-parallel-item:last-child::after {align-self: flex-start;width: 50%;}#sk-container-id-75 div.sk-parallel-item:only-child::after {width: 0;}#sk-container-id-75 div.sk-dashed-wrapped {border: 1px dashed gray;margin: 0 0.4em 0.5em 0.4em;box-sizing: border-box;padding-bottom: 0.4em;background-color: white;}#sk-container-id-75 div.sk-label label {font-family: monospace;font-weight: bold;display: inline-block;line-height: 1.2em;}#sk-container-id-75 div.sk-label-container {text-align: center;}#sk-container-id-75 div.sk-container {/* jupyter's `normalize.less` sets `[hidden] { display: none; }` but bootstrap.min.css set `[hidden] { display: none !important; }` so we also need the `!important` here to be able to override the default hidden behavior on the sphinx rendered scikit-learn.org. See: https://github.com/scikit-learn/scikit-learn/issues/21755 */display: inline-block !important;position: relative;}#sk-container-id-75 div.sk-text-repr-fallback {display: none;}</style><div id=\"sk-container-id-75\" class=\"sk-top-container\"><div class=\"sk-text-repr-fallback\"><pre>RandomForestClassifier(n_estimators=40)</pre><b>In a Jupyter environment, please rerun this cell to show the HTML representation or trust the notebook. <br />On GitHub, the HTML representation is unable to render, please try loading this page with nbviewer.org.</b></div><div class=\"sk-container\" hidden><div class=\"sk-item\"><div class=\"sk-estimator sk-toggleable\"><input class=\"sk-toggleable__control sk-hidden--visually\" id=\"sk-estimator-id-99\" type=\"checkbox\" checked><label for=\"sk-estimator-id-99\" class=\"sk-toggleable__label sk-toggleable__label-arrow\">RandomForestClassifier</label><div class=\"sk-toggleable__content\"><pre>RandomForestClassifier(n_estimators=40)</pre></div></div></div></div></div>"
      ],
      "text/plain": [
       "RandomForestClassifier(n_estimators=40)"
      ]
     },
     "execution_count": 1048,
     "metadata": {},
     "output_type": "execute_result"
    }
   ],
   "source": [
    "model_3.fit(train_x,train_y)"
   ]
  },
  {
   "cell_type": "code",
   "execution_count": 1049,
   "id": "0a40632d",
   "metadata": {},
   "outputs": [],
   "source": [
    "predicted_y_rf=model_3.predict(test_x)"
   ]
  },
  {
   "cell_type": "code",
   "execution_count": 1050,
   "id": "625630b1",
   "metadata": {},
   "outputs": [],
   "source": [
    "accuracy_3=accuracy_score(predicted_y_rf,test_y)"
   ]
  },
  {
   "cell_type": "code",
   "execution_count": 1051,
   "id": "a4a7193e",
   "metadata": {},
   "outputs": [
    {
     "data": {
      "text/plain": [
       "0.7727272727272727"
      ]
     },
     "execution_count": 1051,
     "metadata": {},
     "output_type": "execute_result"
    }
   ],
   "source": [
    "accuracy_3"
   ]
  },
  {
   "cell_type": "code",
   "execution_count": 1052,
   "id": "f9082012",
   "metadata": {},
   "outputs": [],
   "source": [
    "#logistic regression"
   ]
  },
  {
   "cell_type": "code",
   "execution_count": 1053,
   "id": "ac57f444",
   "metadata": {},
   "outputs": [],
   "source": [
    "model4=LogisticRegression(max_iter=1050)"
   ]
  },
  {
   "cell_type": "code",
   "execution_count": 1054,
   "id": "6d54027a",
   "metadata": {},
   "outputs": [
    {
     "data": {
      "text/html": [
       "<style>#sk-container-id-76 {color: black;background-color: white;}#sk-container-id-76 pre{padding: 0;}#sk-container-id-76 div.sk-toggleable {background-color: white;}#sk-container-id-76 label.sk-toggleable__label {cursor: pointer;display: block;width: 100%;margin-bottom: 0;padding: 0.3em;box-sizing: border-box;text-align: center;}#sk-container-id-76 label.sk-toggleable__label-arrow:before {content: \"▸\";float: left;margin-right: 0.25em;color: #696969;}#sk-container-id-76 label.sk-toggleable__label-arrow:hover:before {color: black;}#sk-container-id-76 div.sk-estimator:hover label.sk-toggleable__label-arrow:before {color: black;}#sk-container-id-76 div.sk-toggleable__content {max-height: 0;max-width: 0;overflow: hidden;text-align: left;background-color: #f0f8ff;}#sk-container-id-76 div.sk-toggleable__content pre {margin: 0.2em;color: black;border-radius: 0.25em;background-color: #f0f8ff;}#sk-container-id-76 input.sk-toggleable__control:checked~div.sk-toggleable__content {max-height: 200px;max-width: 100%;overflow: auto;}#sk-container-id-76 input.sk-toggleable__control:checked~label.sk-toggleable__label-arrow:before {content: \"▾\";}#sk-container-id-76 div.sk-estimator input.sk-toggleable__control:checked~label.sk-toggleable__label {background-color: #d4ebff;}#sk-container-id-76 div.sk-label input.sk-toggleable__control:checked~label.sk-toggleable__label {background-color: #d4ebff;}#sk-container-id-76 input.sk-hidden--visually {border: 0;clip: rect(1px 1px 1px 1px);clip: rect(1px, 1px, 1px, 1px);height: 1px;margin: -1px;overflow: hidden;padding: 0;position: absolute;width: 1px;}#sk-container-id-76 div.sk-estimator {font-family: monospace;background-color: #f0f8ff;border: 1px dotted black;border-radius: 0.25em;box-sizing: border-box;margin-bottom: 0.5em;}#sk-container-id-76 div.sk-estimator:hover {background-color: #d4ebff;}#sk-container-id-76 div.sk-parallel-item::after {content: \"\";width: 100%;border-bottom: 1px solid gray;flex-grow: 1;}#sk-container-id-76 div.sk-label:hover label.sk-toggleable__label {background-color: #d4ebff;}#sk-container-id-76 div.sk-serial::before {content: \"\";position: absolute;border-left: 1px solid gray;box-sizing: border-box;top: 0;bottom: 0;left: 50%;z-index: 0;}#sk-container-id-76 div.sk-serial {display: flex;flex-direction: column;align-items: center;background-color: white;padding-right: 0.2em;padding-left: 0.2em;position: relative;}#sk-container-id-76 div.sk-item {position: relative;z-index: 1;}#sk-container-id-76 div.sk-parallel {display: flex;align-items: stretch;justify-content: center;background-color: white;position: relative;}#sk-container-id-76 div.sk-item::before, #sk-container-id-76 div.sk-parallel-item::before {content: \"\";position: absolute;border-left: 1px solid gray;box-sizing: border-box;top: 0;bottom: 0;left: 50%;z-index: -1;}#sk-container-id-76 div.sk-parallel-item {display: flex;flex-direction: column;z-index: 1;position: relative;background-color: white;}#sk-container-id-76 div.sk-parallel-item:first-child::after {align-self: flex-end;width: 50%;}#sk-container-id-76 div.sk-parallel-item:last-child::after {align-self: flex-start;width: 50%;}#sk-container-id-76 div.sk-parallel-item:only-child::after {width: 0;}#sk-container-id-76 div.sk-dashed-wrapped {border: 1px dashed gray;margin: 0 0.4em 0.5em 0.4em;box-sizing: border-box;padding-bottom: 0.4em;background-color: white;}#sk-container-id-76 div.sk-label label {font-family: monospace;font-weight: bold;display: inline-block;line-height: 1.2em;}#sk-container-id-76 div.sk-label-container {text-align: center;}#sk-container-id-76 div.sk-container {/* jupyter's `normalize.less` sets `[hidden] { display: none; }` but bootstrap.min.css set `[hidden] { display: none !important; }` so we also need the `!important` here to be able to override the default hidden behavior on the sphinx rendered scikit-learn.org. See: https://github.com/scikit-learn/scikit-learn/issues/21755 */display: inline-block !important;position: relative;}#sk-container-id-76 div.sk-text-repr-fallback {display: none;}</style><div id=\"sk-container-id-76\" class=\"sk-top-container\"><div class=\"sk-text-repr-fallback\"><pre>LogisticRegression(max_iter=1050)</pre><b>In a Jupyter environment, please rerun this cell to show the HTML representation or trust the notebook. <br />On GitHub, the HTML representation is unable to render, please try loading this page with nbviewer.org.</b></div><div class=\"sk-container\" hidden><div class=\"sk-item\"><div class=\"sk-estimator sk-toggleable\"><input class=\"sk-toggleable__control sk-hidden--visually\" id=\"sk-estimator-id-100\" type=\"checkbox\" checked><label for=\"sk-estimator-id-100\" class=\"sk-toggleable__label sk-toggleable__label-arrow\">LogisticRegression</label><div class=\"sk-toggleable__content\"><pre>LogisticRegression(max_iter=1050)</pre></div></div></div></div></div>"
      ],
      "text/plain": [
       "LogisticRegression(max_iter=1050)"
      ]
     },
     "execution_count": 1054,
     "metadata": {},
     "output_type": "execute_result"
    }
   ],
   "source": [
    "model4.fit(train_x,train_y)"
   ]
  },
  {
   "cell_type": "code",
   "execution_count": 1055,
   "id": "a428bcbd",
   "metadata": {},
   "outputs": [],
   "source": [
    "predicted_y_4=model4.predict(test_x)"
   ]
  },
  {
   "cell_type": "code",
   "execution_count": 1056,
   "id": "683b1730",
   "metadata": {},
   "outputs": [],
   "source": [
    "accuracy_4=accuracy_score(predicted_y_4,test_y)"
   ]
  },
  {
   "cell_type": "code",
   "execution_count": 1057,
   "id": "7e050504",
   "metadata": {},
   "outputs": [
    {
     "data": {
      "text/plain": [
       "0.7662337662337663"
      ]
     },
     "execution_count": 1057,
     "metadata": {},
     "output_type": "execute_result"
    }
   ],
   "source": [
    "accuracy_4"
   ]
  },
  {
   "cell_type": "code",
   "execution_count": 1058,
   "id": "ab4f0338",
   "metadata": {},
   "outputs": [
    {
     "name": "stdout",
     "output_type": "stream",
     "text": [
      "0 DecisionTreeClassifier 0.7532467532467533\n",
      "1 KNeighborsClassifier 0.7207792207792207\n",
      "2 RandomForestClassifier 0.7727272727272727\n",
      "3 LogisticRegression 0.7662337662337663\n"
     ]
    }
   ],
   "source": [
    "list_model=['DecisionTreeClassifier','KNeighborsClassifier','RandomForestClassifier','LogisticRegression']\n",
    "list2=[accuracy,accuracy_2,accuracy_3,accuracy_4]\n",
    "for i in range(len(list2)): print(i,list_model[i],list2[i])"
   ]
  },
  {
   "cell_type": "markdown",
   "metadata": {},
   "source": [
    "FROM THE ABOVE INFORMATION WE CAN CONCLUDE THAT RANDOM FOREST IS GIVING THE BEST ACCURACY OF 77.27"
   ]
  },
  {
   "cell_type": "code",
   "execution_count": 1061,
   "id": "997d6ed6",
   "metadata": {},
   "outputs": [],
   "source": [
    "with open('model_3.pkl','wb') as best_model_selected:\n",
    "    pickle.dump(model_3,best_model_selected)"
   ]
  },
  {
   "cell_type": "code",
   "execution_count": 1063,
   "id": "dd641800",
   "metadata": {},
   "outputs": [],
   "source": [
    "with open('model_3.pkl','rb') as best_model_selected:\n",
    "    loaded_model=pickle.load(best_model_selected)\n"
   ]
  },
  {
   "cell_type": "code",
   "execution_count": 1067,
   "metadata": {},
   "outputs": [
    {
     "name": "stderr",
     "output_type": "stream",
     "text": [
      "C:\\Users\\Afreen\\anaconda3\\lib\\site-packages\\sklearn\\base.py:420: UserWarning: X does not have valid feature names, but RandomForestClassifier was fitted with feature names\n",
      "  warnings.warn(\n"
     ]
    },
    {
     "data": {
      "text/plain": [
       "array([0], dtype=int64)"
      ]
     },
     "execution_count": 1067,
     "metadata": {},
     "output_type": "execute_result"
    }
   ],
   "source": [
    "loaded_model.predict([[1,\t139,\t46\t,83.000000,\t28.700000,\t0.654,\t22\n",
    "]])"
   ]
  },
  {
   "cell_type": "code",
   "execution_count": null,
   "metadata": {},
   "outputs": [],
   "source": []
  }
 ],
 "metadata": {
  "kernelspec": {
   "display_name": "Python 3 (ipykernel)",
   "language": "python",
   "name": "python3"
  },
  "language_info": {
   "codemirror_mode": {
    "name": "ipython",
    "version": 3
   },
   "file_extension": ".py",
   "mimetype": "text/x-python",
   "name": "python",
   "nbconvert_exporter": "python",
   "pygments_lexer": "ipython3",
   "version": "3.10.9"
  }
 },
 "nbformat": 4,
 "nbformat_minor": 5
}
